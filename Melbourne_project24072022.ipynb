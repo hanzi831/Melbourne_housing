{
 "cells": [
  {
   "cell_type": "markdown",
   "id": "9d94d157",
   "metadata": {},
   "source": [
    "# Melbourne Housing Market Analysis"
   ]
  },
  {
   "cell_type": "markdown",
   "id": "abd7842f",
   "metadata": {},
   "source": [
    "## Overview \n",
    "#### The objective of this prokect is to analyse the data avaiable in Melbourne housing market from Jan 2016 to Sep 2017. This dataset includes the properties's address, type, landsize, room number and other information. \n",
    "\n",
    "#### There are three parts of this project, within each part, few questions will be answered.\n",
    "### Part I: Data overview\n",
    "#### Q1.  How many properties were on list during this period? how it distributes in different surburb?\n",
    "#### Q2. In which surburb, the average price/median price of properties is most expensive. \n",
    "#### Q3. How the price distributes in different region?\n",
    "#### Q4. What is the sales amount within this period for each surburb. (deleted)\n",
    "#### Q5. Who are the top 5 agencies( how many properties have sold).\n",
    "#### Q6. What is percentage of different property types in Melbourne?"
   ]
  },
  {
   "cell_type": "markdown",
   "id": "6118edc9",
   "metadata": {},
   "source": [
    "### Part II: Factors that affect the property selling\n",
    "#### Q7.  Is the distance to city will affect the property price?\n",
    "#### Q8. Is there any busy season for the house selling?\n",
    "#### Q9. Would the method of selling will affect the price?\n",
    "#### Q10. Within a same suburb, is property type, land size, the amount of bedroom and bathroom, car park number will affect the price?"
   ]
  },
  {
   "cell_type": "markdown",
   "id": "6fbd5776",
   "metadata": {},
   "source": [
    "### Part III: Prediction\n",
    "#### Q11. Predict the land price for each council\n",
    "#### Q12. Predict the average property price by considering the interest rate policy"
   ]
  },
  {
   "cell_type": "markdown",
   "id": "4d0cd9b8",
   "metadata": {},
   "source": [
    "### 1. import library and dataset\n"
   ]
  },
  {
   "cell_type": "code",
   "execution_count": 22,
   "id": "b2e808fd",
   "metadata": {},
   "outputs": [],
   "source": [
    "import numpy as np\n",
    "import pandas as pd\n",
    "import matplotlib.pyplot as plt\n",
    "import seaborn as sns"
   ]
  },
  {
   "cell_type": "code",
   "execution_count": 3,
   "id": "f57b6db2",
   "metadata": {},
   "outputs": [
    {
     "data": {
      "text/html": [
       "<div>\n",
       "<style scoped>\n",
       "    .dataframe tbody tr th:only-of-type {\n",
       "        vertical-align: middle;\n",
       "    }\n",
       "\n",
       "    .dataframe tbody tr th {\n",
       "        vertical-align: top;\n",
       "    }\n",
       "\n",
       "    .dataframe thead th {\n",
       "        text-align: right;\n",
       "    }\n",
       "</style>\n",
       "<table border=\"1\" class=\"dataframe\">\n",
       "  <thead>\n",
       "    <tr style=\"text-align: right;\">\n",
       "      <th></th>\n",
       "      <th>Suburb</th>\n",
       "      <th>Address</th>\n",
       "      <th>Rooms</th>\n",
       "      <th>Type</th>\n",
       "      <th>Price</th>\n",
       "      <th>Method</th>\n",
       "      <th>SellerG</th>\n",
       "      <th>Date</th>\n",
       "      <th>Distance</th>\n",
       "      <th>Postcode</th>\n",
       "      <th>...</th>\n",
       "      <th>Bathroom</th>\n",
       "      <th>Car</th>\n",
       "      <th>Landsize</th>\n",
       "      <th>BuildingArea</th>\n",
       "      <th>YearBuilt</th>\n",
       "      <th>CouncilArea</th>\n",
       "      <th>Lattitude</th>\n",
       "      <th>Longtitude</th>\n",
       "      <th>Regionname</th>\n",
       "      <th>Propertycount</th>\n",
       "    </tr>\n",
       "  </thead>\n",
       "  <tbody>\n",
       "    <tr>\n",
       "      <th>0</th>\n",
       "      <td>Aberfeldie</td>\n",
       "      <td>10 Caroline St</td>\n",
       "      <td>5</td>\n",
       "      <td>h</td>\n",
       "      <td>1830000</td>\n",
       "      <td>S</td>\n",
       "      <td>Rendina</td>\n",
       "      <td>23/9/2017</td>\n",
       "      <td>7.5</td>\n",
       "      <td>3040</td>\n",
       "      <td>...</td>\n",
       "      <td>4</td>\n",
       "      <td>4.0</td>\n",
       "      <td>730</td>\n",
       "      <td>373.0</td>\n",
       "      <td>2014.0</td>\n",
       "      <td>NaN</td>\n",
       "      <td>-37.75950</td>\n",
       "      <td>144.89427</td>\n",
       "      <td>Western Metropolitan</td>\n",
       "      <td>1543</td>\n",
       "    </tr>\n",
       "    <tr>\n",
       "      <th>1</th>\n",
       "      <td>Airport West</td>\n",
       "      <td>33 Bedford St</td>\n",
       "      <td>3</td>\n",
       "      <td>h</td>\n",
       "      <td>860000</td>\n",
       "      <td>S</td>\n",
       "      <td>Harcourts</td>\n",
       "      <td>23/9/2017</td>\n",
       "      <td>10.4</td>\n",
       "      <td>3042</td>\n",
       "      <td>...</td>\n",
       "      <td>2</td>\n",
       "      <td>2.0</td>\n",
       "      <td>593</td>\n",
       "      <td>NaN</td>\n",
       "      <td>NaN</td>\n",
       "      <td>NaN</td>\n",
       "      <td>-37.72057</td>\n",
       "      <td>144.87558</td>\n",
       "      <td>Western Metropolitan</td>\n",
       "      <td>3464</td>\n",
       "    </tr>\n",
       "    <tr>\n",
       "      <th>2</th>\n",
       "      <td>Airport West</td>\n",
       "      <td>16 Highridge Cr</td>\n",
       "      <td>3</td>\n",
       "      <td>h</td>\n",
       "      <td>850000</td>\n",
       "      <td>S</td>\n",
       "      <td>Brad</td>\n",
       "      <td>23/9/2017</td>\n",
       "      <td>10.4</td>\n",
       "      <td>3042</td>\n",
       "      <td>...</td>\n",
       "      <td>1</td>\n",
       "      <td>2.0</td>\n",
       "      <td>551</td>\n",
       "      <td>96.0</td>\n",
       "      <td>1950.0</td>\n",
       "      <td>NaN</td>\n",
       "      <td>-37.72739</td>\n",
       "      <td>144.88235</td>\n",
       "      <td>Western Metropolitan</td>\n",
       "      <td>3464</td>\n",
       "    </tr>\n",
       "    <tr>\n",
       "      <th>3</th>\n",
       "      <td>Albanvale</td>\n",
       "      <td>5 Hedgerow Ct</td>\n",
       "      <td>3</td>\n",
       "      <td>h</td>\n",
       "      <td>565000</td>\n",
       "      <td>S</td>\n",
       "      <td>Bells</td>\n",
       "      <td>23/9/2017</td>\n",
       "      <td>14.0</td>\n",
       "      <td>3021</td>\n",
       "      <td>...</td>\n",
       "      <td>1</td>\n",
       "      <td>2.0</td>\n",
       "      <td>619</td>\n",
       "      <td>NaN</td>\n",
       "      <td>NaN</td>\n",
       "      <td>NaN</td>\n",
       "      <td>-37.74521</td>\n",
       "      <td>144.76863</td>\n",
       "      <td>Western Metropolitan</td>\n",
       "      <td>1899</td>\n",
       "    </tr>\n",
       "    <tr>\n",
       "      <th>4</th>\n",
       "      <td>Albert Park</td>\n",
       "      <td>59 Moubray St</td>\n",
       "      <td>3</td>\n",
       "      <td>h</td>\n",
       "      <td>2100000</td>\n",
       "      <td>VB</td>\n",
       "      <td>Cayzer</td>\n",
       "      <td>23/9/2017</td>\n",
       "      <td>3.0</td>\n",
       "      <td>3206</td>\n",
       "      <td>...</td>\n",
       "      <td>2</td>\n",
       "      <td>NaN</td>\n",
       "      <td>137</td>\n",
       "      <td>125.0</td>\n",
       "      <td>1890.0</td>\n",
       "      <td>NaN</td>\n",
       "      <td>-37.84388</td>\n",
       "      <td>144.95303</td>\n",
       "      <td>Southern Metropolitan</td>\n",
       "      <td>3280</td>\n",
       "    </tr>\n",
       "  </tbody>\n",
       "</table>\n",
       "<p>5 rows × 21 columns</p>\n",
       "</div>"
      ],
      "text/plain": [
       "         Suburb          Address  Rooms Type    Price Method    SellerG  \\\n",
       "0    Aberfeldie   10 Caroline St      5    h  1830000      S    Rendina   \n",
       "1  Airport West    33 Bedford St      3    h   860000      S  Harcourts   \n",
       "2  Airport West  16 Highridge Cr      3    h   850000      S       Brad   \n",
       "3     Albanvale    5 Hedgerow Ct      3    h   565000      S      Bells   \n",
       "4   Albert Park    59 Moubray St      3    h  2100000     VB     Cayzer   \n",
       "\n",
       "        Date  Distance  Postcode  ...  Bathroom  Car  Landsize  BuildingArea  \\\n",
       "0  23/9/2017       7.5      3040  ...         4  4.0       730         373.0   \n",
       "1  23/9/2017      10.4      3042  ...         2  2.0       593           NaN   \n",
       "2  23/9/2017      10.4      3042  ...         1  2.0       551          96.0   \n",
       "3  23/9/2017      14.0      3021  ...         1  2.0       619           NaN   \n",
       "4  23/9/2017       3.0      3206  ...         2  NaN       137         125.0   \n",
       "\n",
       "   YearBuilt  CouncilArea Lattitude  Longtitude             Regionname  \\\n",
       "0     2014.0          NaN -37.75950   144.89427   Western Metropolitan   \n",
       "1        NaN          NaN -37.72057   144.87558   Western Metropolitan   \n",
       "2     1950.0          NaN -37.72739   144.88235   Western Metropolitan   \n",
       "3        NaN          NaN -37.74521   144.76863   Western Metropolitan   \n",
       "4     1890.0          NaN -37.84388   144.95303  Southern Metropolitan   \n",
       "\n",
       "  Propertycount  \n",
       "0          1543  \n",
       "1          3464  \n",
       "2          3464  \n",
       "3          1899  \n",
       "4          3280  \n",
       "\n",
       "[5 rows x 21 columns]"
      ]
     },
     "execution_count": 3,
     "metadata": {},
     "output_type": "execute_result"
    }
   ],
   "source": [
    "house = pd.read_csv('melb_data.csv')\n",
    "house.head()"
   ]
  },
  {
   "cell_type": "code",
   "execution_count": 9,
   "id": "6114df87",
   "metadata": {},
   "outputs": [
    {
     "data": {
      "text/plain": [
       "Suburb             314\n",
       "Address          13378\n",
       "Rooms                9\n",
       "Type                 3\n",
       "Price             2204\n",
       "Method               5\n",
       "SellerG            268\n",
       "Date                58\n",
       "Distance           202\n",
       "Postcode           198\n",
       "Bedroom2            12\n",
       "Bathroom             9\n",
       "Car                 11\n",
       "Landsize          1448\n",
       "BuildingArea       602\n",
       "YearBuilt          144\n",
       "CouncilArea         33\n",
       "Lattitude         6503\n",
       "Longtitude        7063\n",
       "Regionname           8\n",
       "Propertycount      311\n",
       "dtype: int64"
      ]
     },
     "execution_count": 9,
     "metadata": {},
     "output_type": "execute_result"
    }
   ],
   "source": [
    "house.nunique()"
   ]
  },
  {
   "cell_type": "code",
   "execution_count": 23,
   "id": "9a4089c7",
   "metadata": {},
   "outputs": [
    {
     "data": {
      "text/plain": [
       "Suburb              0\n",
       "Address             0\n",
       "Rooms               0\n",
       "Type                0\n",
       "Price               0\n",
       "Method              0\n",
       "SellerG             0\n",
       "Date                0\n",
       "Distance            0\n",
       "Postcode            0\n",
       "Bedroom2            0\n",
       "Bathroom            0\n",
       "Car                62\n",
       "Landsize            0\n",
       "BuildingArea     6450\n",
       "YearBuilt        5375\n",
       "CouncilArea      1369\n",
       "Lattitude           0\n",
       "Longtitude          0\n",
       "Regionname          0\n",
       "Propertycount       0\n",
       "dtype: int64"
      ]
     },
     "execution_count": 23,
     "metadata": {},
     "output_type": "execute_result"
    }
   ],
   "source": [
    "house.isna().sum()"
   ]
  },
  {
   "cell_type": "markdown",
   "id": "09dc0b62",
   "metadata": {},
   "source": [
    "### 2. Data Analysis\n",
    "\n",
    "### Q1:How many properties were on list during this period? how it distributes in different regions?"
   ]
  },
  {
   "cell_type": "code",
   "execution_count": 10,
   "id": "1dfadc65",
   "metadata": {},
   "outputs": [
    {
     "data": {
      "text/plain": [
       "13378"
      ]
     },
     "execution_count": 10,
     "metadata": {},
     "output_type": "execute_result"
    }
   ],
   "source": [
    "house[\"Address\"].nunique()"
   ]
  },
  {
   "cell_type": "markdown",
   "id": "0a5721e5",
   "metadata": {},
   "source": [
    "#### There are 13378 properties listed on this period."
   ]
  },
  {
   "cell_type": "code",
   "execution_count": 26,
   "id": "9eb98b18",
   "metadata": {},
   "outputs": [
    {
     "data": {
      "text/html": [
       "<div>\n",
       "<style scoped>\n",
       "    .dataframe tbody tr th:only-of-type {\n",
       "        vertical-align: middle;\n",
       "    }\n",
       "\n",
       "    .dataframe tbody tr th {\n",
       "        vertical-align: top;\n",
       "    }\n",
       "\n",
       "    .dataframe thead th {\n",
       "        text-align: right;\n",
       "    }\n",
       "</style>\n",
       "<table border=\"1\" class=\"dataframe\">\n",
       "  <thead>\n",
       "    <tr style=\"text-align: right;\">\n",
       "      <th></th>\n",
       "      <th>Regionname</th>\n",
       "      <th>Address</th>\n",
       "    </tr>\n",
       "  </thead>\n",
       "  <tbody>\n",
       "    <tr>\n",
       "      <th>5</th>\n",
       "      <td>Southern Metropolitan</td>\n",
       "      <td>4660</td>\n",
       "    </tr>\n",
       "    <tr>\n",
       "      <th>2</th>\n",
       "      <td>Northern Metropolitan</td>\n",
       "      <td>3838</td>\n",
       "    </tr>\n",
       "    <tr>\n",
       "      <th>6</th>\n",
       "      <td>Western Metropolitan</td>\n",
       "      <td>2907</td>\n",
       "    </tr>\n",
       "    <tr>\n",
       "      <th>0</th>\n",
       "      <td>Eastern Metropolitan</td>\n",
       "      <td>1466</td>\n",
       "    </tr>\n",
       "    <tr>\n",
       "      <th>4</th>\n",
       "      <td>South-Eastern Metropolitan</td>\n",
       "      <td>448</td>\n",
       "    </tr>\n",
       "    <tr>\n",
       "      <th>1</th>\n",
       "      <td>Eastern Victoria</td>\n",
       "      <td>53</td>\n",
       "    </tr>\n",
       "    <tr>\n",
       "      <th>3</th>\n",
       "      <td>Northern Victoria</td>\n",
       "      <td>41</td>\n",
       "    </tr>\n",
       "    <tr>\n",
       "      <th>7</th>\n",
       "      <td>Western Victoria</td>\n",
       "      <td>32</td>\n",
       "    </tr>\n",
       "  </tbody>\n",
       "</table>\n",
       "</div>"
      ],
      "text/plain": [
       "                   Regionname  Address\n",
       "5       Southern Metropolitan     4660\n",
       "2       Northern Metropolitan     3838\n",
       "6        Western Metropolitan     2907\n",
       "0        Eastern Metropolitan     1466\n",
       "4  South-Eastern Metropolitan      448\n",
       "1            Eastern Victoria       53\n",
       "3           Northern Victoria       41\n",
       "7            Western Victoria       32"
      ]
     },
     "execution_count": 26,
     "metadata": {},
     "output_type": "execute_result"
    }
   ],
   "source": [
    "Region_number=house.groupby(by=\"Regionname\",as_index=False).agg({\"Address\":pd.Series.nunique}).sort_values(by=\"Address\",ascending=False)\n",
    "Region_number"
   ]
  },
  {
   "cell_type": "code",
   "execution_count": 49,
   "id": "652ccdbc",
   "metadata": {},
   "outputs": [
    {
     "data": {
      "image/png": "[encoded data removed]",
      "text/plain": [
       "<Figure size 1008x432 with 1 Axes>"
      ]
     },
     "metadata": {
      "needs_background": "light"
     },
     "output_type": "display_data"
    }
   ],
   "source": [
    "x=Region_number[\"Regionname\"]\n",
    "y=Region_number[\"Address\"]\n",
    "fig, ax =plt.subplots(figsize=(14,6))\n",
    "width=0.75\n",
    "ax.barh(x,y,width,color=\"lightblue\")\n",
    "ax.set_title(\"Listed properties number in each region\",fontsize=20)\n",
    "ax.set_xlabel(\"Properties Number\",fontsize=15)\n",
    "for i, v in enumerate(Region_number[\"Address\"]):\n",
    "    ax.text(v + 4, i-0.1 , str(v),\n",
    "            color = 'red', fontsize=10)\n",
    "plt.show()"
   ]
  },
  {
   "cell_type": "markdown",
   "id": "c06653bb",
   "metadata": {},
   "source": [
    "#### Southern Metropolitan has the largest number of listed properties and western victoria has the smallest number."
   ]
  },
  {
   "cell_type": "markdown",
   "id": "069ec3fc",
   "metadata": {},
   "source": [
    "### Q2. In which surburb, the average price/median price of properties is most expensive. "
   ]
  },
  {
   "cell_type": "code",
   "execution_count": 72,
   "id": "c4d8962f",
   "metadata": {},
   "outputs": [],
   "source": [
    "mean_price=house.groupby(by=\"Suburb\",as_index=False)[\"Price\"].agg(\"mean\").sort_values(by=\"Price\",ascending=True).round(2)"
   ]
  },
  {
   "cell_type": "code",
   "execution_count": 74,
   "id": "1b88d483",
   "metadata": {},
   "outputs": [
    {
     "data": {
      "text/html": [
       "<div>\n",
       "<style scoped>\n",
       "    .dataframe tbody tr th:only-of-type {\n",
       "        vertical-align: middle;\n",
       "    }\n",
       "\n",
       "    .dataframe tbody tr th {\n",
       "        vertical-align: top;\n",
       "    }\n",
       "\n",
       "    .dataframe thead th {\n",
       "        text-align: right;\n",
       "    }\n",
       "</style>\n",
       "<table border=\"1\" class=\"dataframe\">\n",
       "  <thead>\n",
       "    <tr style=\"text-align: right;\">\n",
       "      <th></th>\n",
       "      <th>Suburb</th>\n",
       "      <th>Price</th>\n",
       "    </tr>\n",
       "  </thead>\n",
       "  <tbody>\n",
       "    <tr>\n",
       "      <th>19</th>\n",
       "      <td>Bacchus Marsh</td>\n",
       "      <td>285000.00</td>\n",
       "    </tr>\n",
       "    <tr>\n",
       "      <th>243</th>\n",
       "      <td>Rockbank</td>\n",
       "      <td>340000.00</td>\n",
       "    </tr>\n",
       "    <tr>\n",
       "      <th>179</th>\n",
       "      <td>Kurunjang</td>\n",
       "      <td>353000.00</td>\n",
       "    </tr>\n",
       "    <tr>\n",
       "      <th>291</th>\n",
       "      <td>Wallan</td>\n",
       "      <td>366000.00</td>\n",
       "    </tr>\n",
       "    <tr>\n",
       "      <th>191</th>\n",
       "      <td>Melton South</td>\n",
       "      <td>380736.11</td>\n",
       "    </tr>\n",
       "  </tbody>\n",
       "</table>\n",
       "</div>"
      ],
      "text/plain": [
       "            Suburb      Price\n",
       "19   Bacchus Marsh  285000.00\n",
       "243       Rockbank  340000.00\n",
       "179      Kurunjang  353000.00\n",
       "291         Wallan  366000.00\n",
       "191   Melton South  380736.11"
      ]
     },
     "execution_count": 74,
     "metadata": {},
     "output_type": "execute_result"
    }
   ],
   "source": [
    "mean_price.head(5)"
   ]
  },
  {
   "cell_type": "code",
   "execution_count": 75,
   "id": "6b29f24f",
   "metadata": {},
   "outputs": [
    {
     "data": {
      "text/html": [
       "<div>\n",
       "<style scoped>\n",
       "    .dataframe tbody tr th:only-of-type {\n",
       "        vertical-align: middle;\n",
       "    }\n",
       "\n",
       "    .dataframe tbody tr th {\n",
       "        vertical-align: top;\n",
       "    }\n",
       "\n",
       "    .dataframe thead th {\n",
       "        text-align: right;\n",
       "    }\n",
       "</style>\n",
       "<table border=\"1\" class=\"dataframe\">\n",
       "  <thead>\n",
       "    <tr style=\"text-align: right;\">\n",
       "      <th></th>\n",
       "      <th>Suburb</th>\n",
       "      <th>Price</th>\n",
       "    </tr>\n",
       "  </thead>\n",
       "  <tbody>\n",
       "    <tr>\n",
       "      <th>41</th>\n",
       "      <td>Brighton</td>\n",
       "      <td>1930158.00</td>\n",
       "    </tr>\n",
       "    <tr>\n",
       "      <th>4</th>\n",
       "      <td>Albert Park</td>\n",
       "      <td>1941355.07</td>\n",
       "    </tr>\n",
       "    <tr>\n",
       "      <th>195</th>\n",
       "      <td>Middle Park</td>\n",
       "      <td>2082529.41</td>\n",
       "    </tr>\n",
       "    <tr>\n",
       "      <th>60</th>\n",
       "      <td>Canterbury</td>\n",
       "      <td>2180240.74</td>\n",
       "    </tr>\n",
       "    <tr>\n",
       "      <th>178</th>\n",
       "      <td>Kooyong</td>\n",
       "      <td>2185000.00</td>\n",
       "    </tr>\n",
       "  </tbody>\n",
       "</table>\n",
       "</div>"
      ],
      "text/plain": [
       "          Suburb       Price\n",
       "41      Brighton  1930158.00\n",
       "4    Albert Park  1941355.07\n",
       "195  Middle Park  2082529.41\n",
       "60    Canterbury  2180240.74\n",
       "178      Kooyong  2185000.00"
      ]
     },
     "execution_count": 75,
     "metadata": {},
     "output_type": "execute_result"
    }
   ],
   "source": [
    "mean_price.tail(5)"
   ]
  },
  {
   "cell_type": "code",
   "execution_count": 77,
   "id": "3e1c349c",
   "metadata": {},
   "outputs": [],
   "source": [
    "median_price=house.groupby(by=\"Suburb\",as_index=False)[\"Price\"].agg(\"median\").sort_values(by=\"Price\",ascending=True).round(2)"
   ]
  },
  {
   "cell_type": "code",
   "execution_count": 78,
   "id": "6c360e88",
   "metadata": {},
   "outputs": [
    {
     "data": {
      "text/html": [
       "<div>\n",
       "<style scoped>\n",
       "    .dataframe tbody tr th:only-of-type {\n",
       "        vertical-align: middle;\n",
       "    }\n",
       "\n",
       "    .dataframe tbody tr th {\n",
       "        vertical-align: top;\n",
       "    }\n",
       "\n",
       "    .dataframe thead th {\n",
       "        text-align: right;\n",
       "    }\n",
       "</style>\n",
       "<table border=\"1\" class=\"dataframe\">\n",
       "  <thead>\n",
       "    <tr style=\"text-align: right;\">\n",
       "      <th></th>\n",
       "      <th>Suburb</th>\n",
       "      <th>Price</th>\n",
       "    </tr>\n",
       "  </thead>\n",
       "  <tbody>\n",
       "    <tr>\n",
       "      <th>19</th>\n",
       "      <td>Bacchus Marsh</td>\n",
       "      <td>285000.0</td>\n",
       "    </tr>\n",
       "    <tr>\n",
       "      <th>243</th>\n",
       "      <td>Rockbank</td>\n",
       "      <td>340000.0</td>\n",
       "    </tr>\n",
       "    <tr>\n",
       "      <th>179</th>\n",
       "      <td>Kurunjang</td>\n",
       "      <td>353500.0</td>\n",
       "    </tr>\n",
       "    <tr>\n",
       "      <th>291</th>\n",
       "      <td>Wallan</td>\n",
       "      <td>366000.0</td>\n",
       "    </tr>\n",
       "    <tr>\n",
       "      <th>191</th>\n",
       "      <td>Melton South</td>\n",
       "      <td>390000.0</td>\n",
       "    </tr>\n",
       "    <tr>\n",
       "      <th>...</th>\n",
       "      <td>...</td>\n",
       "      <td>...</td>\n",
       "    </tr>\n",
       "    <tr>\n",
       "      <th>195</th>\n",
       "      <td>Middle Park</td>\n",
       "      <td>1880000.0</td>\n",
       "    </tr>\n",
       "    <tr>\n",
       "      <th>60</th>\n",
       "      <td>Canterbury</td>\n",
       "      <td>1890000.0</td>\n",
       "    </tr>\n",
       "    <tr>\n",
       "      <th>4</th>\n",
       "      <td>Albert Park</td>\n",
       "      <td>1900000.0</td>\n",
       "    </tr>\n",
       "    <tr>\n",
       "      <th>108</th>\n",
       "      <td>Eaglemont</td>\n",
       "      <td>1901000.0</td>\n",
       "    </tr>\n",
       "    <tr>\n",
       "      <th>178</th>\n",
       "      <td>Kooyong</td>\n",
       "      <td>2185000.0</td>\n",
       "    </tr>\n",
       "  </tbody>\n",
       "</table>\n",
       "<p>314 rows × 2 columns</p>\n",
       "</div>"
      ],
      "text/plain": [
       "            Suburb      Price\n",
       "19   Bacchus Marsh   285000.0\n",
       "243       Rockbank   340000.0\n",
       "179      Kurunjang   353500.0\n",
       "291         Wallan   366000.0\n",
       "191   Melton South   390000.0\n",
       "..             ...        ...\n",
       "195    Middle Park  1880000.0\n",
       "60      Canterbury  1890000.0\n",
       "4      Albert Park  1900000.0\n",
       "108      Eaglemont  1901000.0\n",
       "178        Kooyong  2185000.0\n",
       "\n",
       "[314 rows x 2 columns]"
      ]
     },
     "execution_count": 78,
     "metadata": {},
     "output_type": "execute_result"
    }
   ],
   "source": [
    "median_price"
   ]
  },
  {
   "cell_type": "markdown",
   "id": "f5d8901e",
   "metadata": {},
   "source": [
    "#### Kooyong has the largest median and mean price. Bacchus Marsh has the lowest price."
   ]
  },
  {
   "cell_type": "markdown",
   "id": "468308a8",
   "metadata": {},
   "source": [
    "### Q3. How the price distributes in different regions?"
   ]
  },
  {
   "cell_type": "code",
   "execution_count": 83,
   "id": "37bebc56",
   "metadata": {},
   "outputs": [
    {
     "data": {
      "text/plain": [
       "Text(0, 0.5, 'Number')"
      ]
     },
     "execution_count": 83,
     "metadata": {},
     "output_type": "execute_result"
    },
    {
     "data": {
      "image/png": "[encoded data removed]",
      "text/plain": [
       "<Figure size 432x288 with 1 Axes>"
      ]
     },
     "metadata": {
      "needs_background": "light"
     },
     "output_type": "display_data"
    }
   ],
   "source": [
    "sns.histplot(data=house,x=\"Price\").set(title=\"Price Distribution in all regions\")\n",
    "plt.ylabel(\"Number\")"
   ]
  },
  {
   "cell_type": "markdown",
   "id": "37a3bd5f",
   "metadata": {},
   "source": [
    "#### We could see the price of properties is mainly less then 1million."
   ]
  },
  {
   "cell_type": "code",
   "execution_count": 84,
   "id": "0e678df0",
   "metadata": {},
   "outputs": [
    {
     "data": {
      "text/plain": [
       "array(['Western Metropolitan', 'Southern Metropolitan',\n",
       "       'Eastern Metropolitan', 'Eastern Victoria',\n",
       "       'South-Eastern Metropolitan', 'Northern Metropolitan',\n",
       "       'Northern Victoria', 'Western Victoria'], dtype=object)"
      ]
     },
     "execution_count": 84,
     "metadata": {},
     "output_type": "execute_result"
    }
   ],
   "source": [
    "house[\"Regionname\"].unique()"
   ]
  },
  {
   "cell_type": "code",
   "execution_count": 95,
   "id": "69e2aa3e",
   "metadata": {},
   "outputs": [],
   "source": [
    "western_metropolitan=house[\"Price\"].loc[house[\"Regionname\"]==\"Western Metropolitan\"].values\n",
    "southern_metropolitan=house[\"Price\"].loc[house[\"Regionname\"]==\"Southern Metropolitan\"].values\n",
    "eastern_metropolitan=house[\"Price\"].loc[house[\"Regionname\"]==\"Eastern Metropolitan\"].values\n",
    "eastern_victoria=house[\"Price\"].loc[house[\"Regionname\"]==\"Eastern Victoria\"].values\n",
    "south_eastern_metropolitan=house[\"Price\"].loc[house[\"Regionname\"]==\"South-Eastern Metropolitan\"].values\n",
    "northern_metropolitan=house[\"Price\"].loc[house[\"Regionname\"]==\"Northern Metropolitan\"].values\n",
    "northern_victoria=house[\"Price\"].loc[house[\"Regionname\"]==\"Northern Victoria\"].values\n",
    "western_victoria=house[\"Price\"].loc[house[\"Regionname\"]==\"Western Victoria\"].values"
   ]
  },
  {
   "cell_type": "code",
   "execution_count": 93,
   "id": "707cf26b",
   "metadata": {},
   "outputs": [
    {
     "data": {
      "text/plain": [
       "Text(0, 0.5, 'Number')"
      ]
     },
     "execution_count": 93,
     "metadata": {},
     "output_type": "execute_result"
    },
    {
     "data": {
      "image/png": "[encoded data removed]",
      "text/plain": [
       "<Figure size 432x288 with 1 Axes>"
      ]
     },
     "metadata": {
      "needs_background": "light"
     },
     "output_type": "display_data"
    }
   ],
   "source": [
    "sns.histplot(data=western_metropolitan).set(title=\"Price Distribution in Western Metropolitan\")\n",
    "plt.ylabel(\"Number\")"
   ]
  },
  {
   "cell_type": "code",
   "execution_count": 96,
   "id": "383bed7d",
   "metadata": {},
   "outputs": [
    {
     "data": {
      "text/plain": [
       "[Text(0.5, 1.0, 'Southern Metropolitan')]"
      ]
     },
     "execution_count": 96,
     "metadata": {},
     "output_type": "execute_result"
    },
    {
     "data": {
      "image/png": "[encoded data removed]",
      "text/plain": [
       "<Figure size 432x288 with 1 Axes>"
      ]
     },
     "metadata": {
      "needs_background": "light"
     },
     "output_type": "display_data"
    }
   ],
   "source": [
    "sns.histplot(data=southern_metropolitan).set(title=\"Southern Metropolitan\")"
   ]
  },
  {
   "cell_type": "markdown",
   "id": "1ecd8f57",
   "metadata": {},
   "source": [
    "### Q5. Who are the top 5 agencies( how many properties have sold)."
   ]
  },
  {
   "cell_type": "code",
   "execution_count": 124,
   "id": "cfa06e4c",
   "metadata": {},
   "outputs": [
    {
     "data": {
      "text/plain": [
       "SellerG\n",
       "Nelson           1565\n",
       "Jellis           1316\n",
       "hockingstuart    1167\n",
       "Barry            1011\n",
       "Ray               701\n",
       "Name: SellerG, dtype: int64"
      ]
     },
     "execution_count": 124,
     "metadata": {},
     "output_type": "execute_result"
    }
   ],
   "source": [
    "house.groupby(\"SellerG\")[\"SellerG\"].count().sort_values(ascending=False).head(5)"
   ]
  },
  {
   "cell_type": "code",
   "execution_count": 145,
   "id": "9f75b7fd",
   "metadata": {
    "scrolled": true
   },
   "outputs": [
    {
     "data": {
      "text/html": [
       "<div>\n",
       "<style scoped>\n",
       "    .dataframe tbody tr th:only-of-type {\n",
       "        vertical-align: middle;\n",
       "    }\n",
       "\n",
       "    .dataframe tbody tr th {\n",
       "        vertical-align: top;\n",
       "    }\n",
       "\n",
       "    .dataframe thead th {\n",
       "        text-align: right;\n",
       "    }\n",
       "</style>\n",
       "<table border=\"1\" class=\"dataframe\">\n",
       "  <thead>\n",
       "    <tr style=\"text-align: right;\">\n",
       "      <th></th>\n",
       "      <th>SellerG</th>\n",
       "      <th>Type</th>\n",
       "      <th>count</th>\n",
       "    </tr>\n",
       "  </thead>\n",
       "  <tbody>\n",
       "    <tr>\n",
       "      <th>0</th>\n",
       "      <td>Barry</td>\n",
       "      <td>h</td>\n",
       "      <td>820</td>\n",
       "    </tr>\n",
       "    <tr>\n",
       "      <th>1</th>\n",
       "      <td>Barry</td>\n",
       "      <td>t</td>\n",
       "      <td>74</td>\n",
       "    </tr>\n",
       "    <tr>\n",
       "      <th>2</th>\n",
       "      <td>Barry</td>\n",
       "      <td>u</td>\n",
       "      <td>117</td>\n",
       "    </tr>\n",
       "    <tr>\n",
       "      <th>3</th>\n",
       "      <td>Jellis</td>\n",
       "      <td>h</td>\n",
       "      <td>875</td>\n",
       "    </tr>\n",
       "    <tr>\n",
       "      <th>4</th>\n",
       "      <td>Jellis</td>\n",
       "      <td>t</td>\n",
       "      <td>129</td>\n",
       "    </tr>\n",
       "    <tr>\n",
       "      <th>5</th>\n",
       "      <td>Jellis</td>\n",
       "      <td>u</td>\n",
       "      <td>312</td>\n",
       "    </tr>\n",
       "    <tr>\n",
       "      <th>6</th>\n",
       "      <td>Nelson</td>\n",
       "      <td>h</td>\n",
       "      <td>1160</td>\n",
       "    </tr>\n",
       "    <tr>\n",
       "      <th>7</th>\n",
       "      <td>Nelson</td>\n",
       "      <td>t</td>\n",
       "      <td>134</td>\n",
       "    </tr>\n",
       "    <tr>\n",
       "      <th>8</th>\n",
       "      <td>Nelson</td>\n",
       "      <td>u</td>\n",
       "      <td>271</td>\n",
       "    </tr>\n",
       "    <tr>\n",
       "      <th>9</th>\n",
       "      <td>Ray</td>\n",
       "      <td>h</td>\n",
       "      <td>528</td>\n",
       "    </tr>\n",
       "    <tr>\n",
       "      <th>10</th>\n",
       "      <td>Ray</td>\n",
       "      <td>t</td>\n",
       "      <td>55</td>\n",
       "    </tr>\n",
       "    <tr>\n",
       "      <th>11</th>\n",
       "      <td>Ray</td>\n",
       "      <td>u</td>\n",
       "      <td>118</td>\n",
       "    </tr>\n",
       "    <tr>\n",
       "      <th>12</th>\n",
       "      <td>hockingstuart</td>\n",
       "      <td>h</td>\n",
       "      <td>673</td>\n",
       "    </tr>\n",
       "    <tr>\n",
       "      <th>13</th>\n",
       "      <td>hockingstuart</td>\n",
       "      <td>t</td>\n",
       "      <td>97</td>\n",
       "    </tr>\n",
       "    <tr>\n",
       "      <th>14</th>\n",
       "      <td>hockingstuart</td>\n",
       "      <td>u</td>\n",
       "      <td>397</td>\n",
       "    </tr>\n",
       "  </tbody>\n",
       "</table>\n",
       "</div>"
      ],
      "text/plain": [
       "          SellerG Type  count\n",
       "0           Barry    h    820\n",
       "1           Barry    t     74\n",
       "2           Barry    u    117\n",
       "3          Jellis    h    875\n",
       "4          Jellis    t    129\n",
       "5          Jellis    u    312\n",
       "6          Nelson    h   1160\n",
       "7          Nelson    t    134\n",
       "8          Nelson    u    271\n",
       "9             Ray    h    528\n",
       "10            Ray    t     55\n",
       "11            Ray    u    118\n",
       "12  hockingstuart    h    673\n",
       "13  hockingstuart    t     97\n",
       "14  hockingstuart    u    397"
      ]
     },
     "execution_count": 145,
     "metadata": {},
     "output_type": "execute_result"
    }
   ],
   "source": [
    "top5=house.loc[house.SellerG.isin([\"Nelson\",\"Jellis\",\"hockingstuart\",\"Barry\",\"Ray\"])].groupby(by=[\"SellerG\",\"Type\"])[\"Type\"].count().reset_index(name=\"count\")\n",
    "top5"
   ]
  },
  {
   "cell_type": "code",
   "execution_count": 148,
   "id": "be7889e4",
   "metadata": {},
   "outputs": [
    {
     "data": {
      "text/plain": [
       "[Text(0.5, 1.0, 'Listed Properties Numbers of Top 5 Agnecy')]"
      ]
     },
     "execution_count": 148,
     "metadata": {},
     "output_type": "execute_result"
    },
    {
     "data": {
      "image/png": "[encoded data removed]",
      "text/plain": [
       "<Figure size 432x288 with 1 Axes>"
      ]
     },
     "metadata": {
      "needs_background": "light"
     },
     "output_type": "display_data"
    }
   ],
   "source": [
    "sns.barplot(data=top5,x=\"SellerG\",y=\"count\",hue=\"Type\").set(title=\"Listed Properties Numbers of Top 5 Agnecy\")"
   ]
  },
  {
   "cell_type": "markdown",
   "id": "45983b2a",
   "metadata": {},
   "source": [
    "#### The top 5 seller is Nelson, Jellis, hockingstuart ,Barry and Ray. Most of the properties they sold is house."
   ]
  },
  {
   "cell_type": "markdown",
   "id": "8ed969e0",
   "metadata": {},
   "source": [
    "### Q6. What is percentage of different property types in Melbourne?"
   ]
  },
  {
   "cell_type": "code",
   "execution_count": 105,
   "id": "fd2c3961",
   "metadata": {},
   "outputs": [
    {
     "data": {
      "text/plain": [
       "Type\n",
       "h    9449\n",
       "t    1114\n",
       "u    3017\n",
       "Name: Type, dtype: int64"
      ]
     },
     "execution_count": 105,
     "metadata": {},
     "output_type": "execute_result"
    }
   ],
   "source": [
    "type_number=house.groupby(\"Type\")[\"Type\"].count()\n",
    "type_number"
   ]
  },
  {
   "cell_type": "code",
   "execution_count": 110,
   "id": "53b87c6a",
   "metadata": {},
   "outputs": [
    {
     "data": {
      "image/png": "[encoded data removed]",
      "text/plain": [
       "<Figure size 720x432 with 1 Axes>"
      ]
     },
     "metadata": {},
     "output_type": "display_data"
    }
   ],
   "source": [
    "labels=[\"house\",\"townhouse\",\"unit\"]\n",
    "colors=sns.color_palette(\"pastel\")[0:3]\n",
    "pie,ax=plt.subplots(figsize=(10,6))\n",
    "plt.pie(type_number,labels=labels,colors=colors,autopct=\"%.0f%%\")\n",
    "plt.title(\"The percentage of different property types sold in Melbourne\")\n",
    "plt.show()"
   ]
  },
  {
   "cell_type": "code",
   "execution_count": null,
   "id": "da592060",
   "metadata": {},
   "outputs": [],
   "source": []
  }
 ],
 "metadata": {
  "kernelspec": {
   "display_name": "Python 3",
   "language": "python",
   "name": "python3"
  },
  "language_info": {
   "codemirror_mode": {
    "name": "ipython",
    "version": 3
   },
   "file_extension": ".py",
   "mimetype": "text/x-python",
   "name": "python",
   "nbconvert_exporter": "python",
   "pygments_lexer": "ipython3",
   "version": "3.8.8"
  }
 },
 "nbformat": 4,
 "nbformat_minor": 5
}
