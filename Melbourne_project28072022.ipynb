{
 "cells": [
  {
   "cell_type": "markdown",
   "id": "9d94d157",
   "metadata": {},
   "source": [
    "# Melbourne Housing Market Analysis"
   ]
  },
  {
   "cell_type": "markdown",
   "id": "abd7842f",
   "metadata": {},
   "source": [
    "## Overview \n",
    "#### The objective of this prokect is to analyse the data avaiable in Melbourne housing market from Jan 2016 to Sep 2017. This dataset includes the properties's address, type, landsize, room number and other information. \n",
    "\n",
    "#### There are three parts of this project, within each part, few questions will be answered.\n",
    "### Part I: Data overview\n",
    "#### Q1.  How many properties were on list during this period? how it distributes in different surburb?\n",
    "#### Q2. In which surburb, the average price/median price of properties is most expensive. \n",
    "#### Q3. How the price distributes in different region?\n",
    "#### Q4. What is the sales amount within this period for each surburb. \n",
    "#### Q5. Who are the top 5 agencies( how many properties have sold).\n",
    "#### Q6. What is percentage of different property types in Melbourne?"
   ]
  },
  {
   "cell_type": "markdown",
   "id": "6118edc9",
   "metadata": {},
   "source": [
    "### Part II: Factors that affect the property selling\n",
    "#### Q7.  Is the distance to city will affect the property price?\n",
    "#### Q8. Is there any busy season for the house selling?\n",
    "#### Q9. Would the method of selling will affect the price?\n",
    "#### Q10. Within a same suburb, is property type, land size, the amount of bedroom and bathroom, car park number will affect the price?"
   ]
  },
  {
   "cell_type": "markdown",
   "id": "6fbd5776",
   "metadata": {},
   "source": [
    "### Part III: Prediction\n",
    "#### Q11. Predict the land price for each council\n",
    "#### Q12. Predict the average property price by considering the interest rate policy"
   ]
  },
  {
   "cell_type": "markdown",
   "id": "4d0cd9b8",
   "metadata": {},
   "source": [
    "### 1. import library and dataset\n"
   ]
  },
  {
   "cell_type": "code",
   "execution_count": 174,
   "id": "b2e808fd",
   "metadata": {},
   "outputs": [],
   "source": [
    "import numpy as np\n",
    "import pandas as pd\n",
    "import matplotlib.pyplot as plt\n",
    "import seaborn as sns"
   ]
  },
  {
   "cell_type": "code",
   "execution_count": 2,
   "id": "f57b6db2",
   "metadata": {},
   "outputs": [
    {
     "data": {
      "text/html": [
       "<div>\n",
       "<style scoped>\n",
       "    .dataframe tbody tr th:only-of-type {\n",
       "        vertical-align: middle;\n",
       "    }\n",
       "\n",
       "    .dataframe tbody tr th {\n",
       "        vertical-align: top;\n",
       "    }\n",
       "\n",
       "    .dataframe thead th {\n",
       "        text-align: right;\n",
       "    }\n",
       "</style>\n",
       "<table border=\"1\" class=\"dataframe\">\n",
       "  <thead>\n",
       "    <tr style=\"text-align: right;\">\n",
       "      <th></th>\n",
       "      <th>Suburb</th>\n",
       "      <th>Address</th>\n",
       "      <th>Rooms</th>\n",
       "      <th>Type</th>\n",
       "      <th>Price</th>\n",
       "      <th>Method</th>\n",
       "      <th>SellerG</th>\n",
       "      <th>Date</th>\n",
       "      <th>Distance</th>\n",
       "      <th>Postcode</th>\n",
       "      <th>...</th>\n",
       "      <th>Bathroom</th>\n",
       "      <th>Car</th>\n",
       "      <th>Landsize</th>\n",
       "      <th>BuildingArea</th>\n",
       "      <th>YearBuilt</th>\n",
       "      <th>CouncilArea</th>\n",
       "      <th>Lattitude</th>\n",
       "      <th>Longtitude</th>\n",
       "      <th>Regionname</th>\n",
       "      <th>Propertycount</th>\n",
       "    </tr>\n",
       "  </thead>\n",
       "  <tbody>\n",
       "    <tr>\n",
       "      <th>0</th>\n",
       "      <td>Aberfeldie</td>\n",
       "      <td>10 Caroline St</td>\n",
       "      <td>5</td>\n",
       "      <td>h</td>\n",
       "      <td>1830000</td>\n",
       "      <td>S</td>\n",
       "      <td>Rendina</td>\n",
       "      <td>23/9/2017</td>\n",
       "      <td>7.5</td>\n",
       "      <td>3040</td>\n",
       "      <td>...</td>\n",
       "      <td>4</td>\n",
       "      <td>4.0</td>\n",
       "      <td>730</td>\n",
       "      <td>373.0</td>\n",
       "      <td>2014.0</td>\n",
       "      <td>NaN</td>\n",
       "      <td>-37.75950</td>\n",
       "      <td>144.89427</td>\n",
       "      <td>Western Metropolitan</td>\n",
       "      <td>1543</td>\n",
       "    </tr>\n",
       "    <tr>\n",
       "      <th>1</th>\n",
       "      <td>Airport West</td>\n",
       "      <td>33 Bedford St</td>\n",
       "      <td>3</td>\n",
       "      <td>h</td>\n",
       "      <td>860000</td>\n",
       "      <td>S</td>\n",
       "      <td>Harcourts</td>\n",
       "      <td>23/9/2017</td>\n",
       "      <td>10.4</td>\n",
       "      <td>3042</td>\n",
       "      <td>...</td>\n",
       "      <td>2</td>\n",
       "      <td>2.0</td>\n",
       "      <td>593</td>\n",
       "      <td>NaN</td>\n",
       "      <td>NaN</td>\n",
       "      <td>NaN</td>\n",
       "      <td>-37.72057</td>\n",
       "      <td>144.87558</td>\n",
       "      <td>Western Metropolitan</td>\n",
       "      <td>3464</td>\n",
       "    </tr>\n",
       "    <tr>\n",
       "      <th>2</th>\n",
       "      <td>Airport West</td>\n",
       "      <td>16 Highridge Cr</td>\n",
       "      <td>3</td>\n",
       "      <td>h</td>\n",
       "      <td>850000</td>\n",
       "      <td>S</td>\n",
       "      <td>Brad</td>\n",
       "      <td>23/9/2017</td>\n",
       "      <td>10.4</td>\n",
       "      <td>3042</td>\n",
       "      <td>...</td>\n",
       "      <td>1</td>\n",
       "      <td>2.0</td>\n",
       "      <td>551</td>\n",
       "      <td>96.0</td>\n",
       "      <td>1950.0</td>\n",
       "      <td>NaN</td>\n",
       "      <td>-37.72739</td>\n",
       "      <td>144.88235</td>\n",
       "      <td>Western Metropolitan</td>\n",
       "      <td>3464</td>\n",
       "    </tr>\n",
       "    <tr>\n",
       "      <th>3</th>\n",
       "      <td>Albanvale</td>\n",
       "      <td>5 Hedgerow Ct</td>\n",
       "      <td>3</td>\n",
       "      <td>h</td>\n",
       "      <td>565000</td>\n",
       "      <td>S</td>\n",
       "      <td>Bells</td>\n",
       "      <td>23/9/2017</td>\n",
       "      <td>14.0</td>\n",
       "      <td>3021</td>\n",
       "      <td>...</td>\n",
       "      <td>1</td>\n",
       "      <td>2.0</td>\n",
       "      <td>619</td>\n",
       "      <td>NaN</td>\n",
       "      <td>NaN</td>\n",
       "      <td>NaN</td>\n",
       "      <td>-37.74521</td>\n",
       "      <td>144.76863</td>\n",
       "      <td>Western Metropolitan</td>\n",
       "      <td>1899</td>\n",
       "    </tr>\n",
       "    <tr>\n",
       "      <th>4</th>\n",
       "      <td>Albert Park</td>\n",
       "      <td>59 Moubray St</td>\n",
       "      <td>3</td>\n",
       "      <td>h</td>\n",
       "      <td>2100000</td>\n",
       "      <td>VB</td>\n",
       "      <td>Cayzer</td>\n",
       "      <td>23/9/2017</td>\n",
       "      <td>3.0</td>\n",
       "      <td>3206</td>\n",
       "      <td>...</td>\n",
       "      <td>2</td>\n",
       "      <td>NaN</td>\n",
       "      <td>137</td>\n",
       "      <td>125.0</td>\n",
       "      <td>1890.0</td>\n",
       "      <td>NaN</td>\n",
       "      <td>-37.84388</td>\n",
       "      <td>144.95303</td>\n",
       "      <td>Southern Metropolitan</td>\n",
       "      <td>3280</td>\n",
       "    </tr>\n",
       "  </tbody>\n",
       "</table>\n",
       "<p>5 rows × 21 columns</p>\n",
       "</div>"
      ],
      "text/plain": [
       "         Suburb          Address  Rooms Type    Price Method    SellerG  \\\n",
       "0    Aberfeldie   10 Caroline St      5    h  1830000      S    Rendina   \n",
       "1  Airport West    33 Bedford St      3    h   860000      S  Harcourts   \n",
       "2  Airport West  16 Highridge Cr      3    h   850000      S       Brad   \n",
       "3     Albanvale    5 Hedgerow Ct      3    h   565000      S      Bells   \n",
       "4   Albert Park    59 Moubray St      3    h  2100000     VB     Cayzer   \n",
       "\n",
       "        Date  Distance  Postcode  ...  Bathroom  Car  Landsize  BuildingArea  \\\n",
       "0  23/9/2017       7.5      3040  ...         4  4.0       730         373.0   \n",
       "1  23/9/2017      10.4      3042  ...         2  2.0       593           NaN   \n",
       "2  23/9/2017      10.4      3042  ...         1  2.0       551          96.0   \n",
       "3  23/9/2017      14.0      3021  ...         1  2.0       619           NaN   \n",
       "4  23/9/2017       3.0      3206  ...         2  NaN       137         125.0   \n",
       "\n",
       "   YearBuilt  CouncilArea Lattitude  Longtitude             Regionname  \\\n",
       "0     2014.0          NaN -37.75950   144.89427   Western Metropolitan   \n",
       "1        NaN          NaN -37.72057   144.87558   Western Metropolitan   \n",
       "2     1950.0          NaN -37.72739   144.88235   Western Metropolitan   \n",
       "3        NaN          NaN -37.74521   144.76863   Western Metropolitan   \n",
       "4     1890.0          NaN -37.84388   144.95303  Southern Metropolitan   \n",
       "\n",
       "  Propertycount  \n",
       "0          1543  \n",
       "1          3464  \n",
       "2          3464  \n",
       "3          1899  \n",
       "4          3280  \n",
       "\n",
       "[5 rows x 21 columns]"
      ]
     },
     "execution_count": 2,
     "metadata": {},
     "output_type": "execute_result"
    }
   ],
   "source": [
    "house = pd.read_csv('melb_data.csv')\n",
    "house.head()"
   ]
  },
  {
   "cell_type": "code",
   "execution_count": 3,
   "id": "6114df87",
   "metadata": {},
   "outputs": [
    {
     "data": {
      "text/plain": [
       "Suburb             314\n",
       "Address          13378\n",
       "Rooms                9\n",
       "Type                 3\n",
       "Price             2204\n",
       "Method               5\n",
       "SellerG            268\n",
       "Date                58\n",
       "Distance           202\n",
       "Postcode           198\n",
       "Bedroom2            12\n",
       "Bathroom             9\n",
       "Car                 11\n",
       "Landsize          1448\n",
       "BuildingArea       602\n",
       "YearBuilt          144\n",
       "CouncilArea         33\n",
       "Lattitude         6503\n",
       "Longtitude        7063\n",
       "Regionname           8\n",
       "Propertycount      311\n",
       "dtype: int64"
      ]
     },
     "execution_count": 3,
     "metadata": {},
     "output_type": "execute_result"
    }
   ],
   "source": [
    "house.nunique()"
   ]
  },
  {
   "cell_type": "code",
   "execution_count": 4,
   "id": "9a4089c7",
   "metadata": {},
   "outputs": [
    {
     "data": {
      "text/plain": [
       "Suburb              0\n",
       "Address             0\n",
       "Rooms               0\n",
       "Type                0\n",
       "Price               0\n",
       "Method              0\n",
       "SellerG             0\n",
       "Date                0\n",
       "Distance            0\n",
       "Postcode            0\n",
       "Bedroom2            0\n",
       "Bathroom            0\n",
       "Car                62\n",
       "Landsize            0\n",
       "BuildingArea     6450\n",
       "YearBuilt        5375\n",
       "CouncilArea      1369\n",
       "Lattitude           0\n",
       "Longtitude          0\n",
       "Regionname          0\n",
       "Propertycount       0\n",
       "dtype: int64"
      ]
     },
     "execution_count": 4,
     "metadata": {},
     "output_type": "execute_result"
    }
   ],
   "source": [
    "house.isna().sum()"
   ]
  },
  {
   "cell_type": "markdown",
   "id": "09dc0b62",
   "metadata": {},
   "source": [
    "### 2. Data Analysis\n",
    "\n",
    "### Q1:How many properties were on list during this period? "
   ]
  },
  {
   "cell_type": "code",
   "execution_count": 5,
   "id": "1dfadc65",
   "metadata": {},
   "outputs": [
    {
     "data": {
      "text/plain": [
       "13378"
      ]
     },
     "execution_count": 5,
     "metadata": {},
     "output_type": "execute_result"
    }
   ],
   "source": [
    "house[\"Address\"].nunique()"
   ]
  },
  {
   "cell_type": "markdown",
   "id": "0a5721e5",
   "metadata": {},
   "source": [
    "#### There are 13378 properties listed on this period."
   ]
  },
  {
   "cell_type": "markdown",
   "id": "ef83799c",
   "metadata": {},
   "source": [
    "### how it distributes in different regions?"
   ]
  },
  {
   "cell_type": "code",
   "execution_count": 6,
   "id": "9eb98b18",
   "metadata": {},
   "outputs": [
    {
     "data": {
      "text/html": [
       "<div>\n",
       "<style scoped>\n",
       "    .dataframe tbody tr th:only-of-type {\n",
       "        vertical-align: middle;\n",
       "    }\n",
       "\n",
       "    .dataframe tbody tr th {\n",
       "        vertical-align: top;\n",
       "    }\n",
       "\n",
       "    .dataframe thead th {\n",
       "        text-align: right;\n",
       "    }\n",
       "</style>\n",
       "<table border=\"1\" class=\"dataframe\">\n",
       "  <thead>\n",
       "    <tr style=\"text-align: right;\">\n",
       "      <th></th>\n",
       "      <th>Regionname</th>\n",
       "      <th>Address</th>\n",
       "    </tr>\n",
       "  </thead>\n",
       "  <tbody>\n",
       "    <tr>\n",
       "      <th>5</th>\n",
       "      <td>Southern Metropolitan</td>\n",
       "      <td>4660</td>\n",
       "    </tr>\n",
       "    <tr>\n",
       "      <th>2</th>\n",
       "      <td>Northern Metropolitan</td>\n",
       "      <td>3838</td>\n",
       "    </tr>\n",
       "    <tr>\n",
       "      <th>6</th>\n",
       "      <td>Western Metropolitan</td>\n",
       "      <td>2907</td>\n",
       "    </tr>\n",
       "    <tr>\n",
       "      <th>0</th>\n",
       "      <td>Eastern Metropolitan</td>\n",
       "      <td>1466</td>\n",
       "    </tr>\n",
       "    <tr>\n",
       "      <th>4</th>\n",
       "      <td>South-Eastern Metropolitan</td>\n",
       "      <td>448</td>\n",
       "    </tr>\n",
       "    <tr>\n",
       "      <th>1</th>\n",
       "      <td>Eastern Victoria</td>\n",
       "      <td>53</td>\n",
       "    </tr>\n",
       "    <tr>\n",
       "      <th>3</th>\n",
       "      <td>Northern Victoria</td>\n",
       "      <td>41</td>\n",
       "    </tr>\n",
       "    <tr>\n",
       "      <th>7</th>\n",
       "      <td>Western Victoria</td>\n",
       "      <td>32</td>\n",
       "    </tr>\n",
       "  </tbody>\n",
       "</table>\n",
       "</div>"
      ],
      "text/plain": [
       "                   Regionname  Address\n",
       "5       Southern Metropolitan     4660\n",
       "2       Northern Metropolitan     3838\n",
       "6        Western Metropolitan     2907\n",
       "0        Eastern Metropolitan     1466\n",
       "4  South-Eastern Metropolitan      448\n",
       "1            Eastern Victoria       53\n",
       "3           Northern Victoria       41\n",
       "7            Western Victoria       32"
      ]
     },
     "execution_count": 6,
     "metadata": {},
     "output_type": "execute_result"
    }
   ],
   "source": [
    "Region_number=house.groupby(by=\"Regionname\",as_index=False).agg({\"Address\":pd.Series.nunique}).sort_values(by=\"Address\",ascending=False)\n",
    "Region_number"
   ]
  },
  {
   "cell_type": "code",
   "execution_count": 7,
   "id": "652ccdbc",
   "metadata": {},
   "outputs": [
    {
     "data": {
      "image/png": "[encoded data removed]",
      "text/plain": [
       "<Figure size 1008x432 with 1 Axes>"
      ]
     },
     "metadata": {
      "needs_background": "light"
     },
     "output_type": "display_data"
    }
   ],
   "source": [
    "x=Region_number[\"Regionname\"]\n",
    "y=Region_number[\"Address\"]\n",
    "fig, ax =plt.subplots(figsize=(14,6))\n",
    "width=0.75\n",
    "ax.barh(x,y,width,color=\"lightblue\")\n",
    "ax.set_title(\"Listed properties number in each region\",fontsize=20)\n",
    "ax.set_xlabel(\"Properties Number\",fontsize=15)\n",
    "for i, v in enumerate(Region_number[\"Address\"]):\n",
    "    ax.text(v + 4, i-0.1 , str(v),\n",
    "            color = 'red', fontsize=10)\n",
    "plt.show()"
   ]
  },
  {
   "cell_type": "markdown",
   "id": "c06653bb",
   "metadata": {},
   "source": [
    "#### Southern Metropolitan has the largest number of listed properties and western victoria has the smallest number."
   ]
  },
  {
   "cell_type": "markdown",
   "id": "f59870af",
   "metadata": {},
   "source": [
    "### top 5 surbubs that sell most properties? Which area does the surburb in?"
   ]
  },
  {
   "cell_type": "code",
   "execution_count": 166,
   "id": "d1024a43",
   "metadata": {},
   "outputs": [
    {
     "data": {
      "text/html": [
       "<div>\n",
       "<style scoped>\n",
       "    .dataframe tbody tr th:only-of-type {\n",
       "        vertical-align: middle;\n",
       "    }\n",
       "\n",
       "    .dataframe tbody tr th {\n",
       "        vertical-align: top;\n",
       "    }\n",
       "\n",
       "    .dataframe thead th {\n",
       "        text-align: right;\n",
       "    }\n",
       "</style>\n",
       "<table border=\"1\" class=\"dataframe\">\n",
       "  <thead>\n",
       "    <tr style=\"text-align: right;\">\n",
       "      <th></th>\n",
       "      <th>Suburb</th>\n",
       "      <th>Regionname</th>\n",
       "      <th>Property_number</th>\n",
       "    </tr>\n",
       "  </thead>\n",
       "  <tbody>\n",
       "    <tr>\n",
       "      <th>0</th>\n",
       "      <td>Reservoir</td>\n",
       "      <td>Northern Metropolitan</td>\n",
       "      <td>359</td>\n",
       "    </tr>\n",
       "    <tr>\n",
       "      <th>1</th>\n",
       "      <td>Richmond</td>\n",
       "      <td>Northern Metropolitan</td>\n",
       "      <td>260</td>\n",
       "    </tr>\n",
       "    <tr>\n",
       "      <th>2</th>\n",
       "      <td>Bentleigh East</td>\n",
       "      <td>Southern Metropolitan</td>\n",
       "      <td>249</td>\n",
       "    </tr>\n",
       "    <tr>\n",
       "      <th>3</th>\n",
       "      <td>Preston</td>\n",
       "      <td>Northern Metropolitan</td>\n",
       "      <td>239</td>\n",
       "    </tr>\n",
       "    <tr>\n",
       "      <th>4</th>\n",
       "      <td>Brunswick</td>\n",
       "      <td>Northern Metropolitan</td>\n",
       "      <td>222</td>\n",
       "    </tr>\n",
       "  </tbody>\n",
       "</table>\n",
       "</div>"
      ],
      "text/plain": [
       "           Suburb             Regionname  Property_number\n",
       "0       Reservoir  Northern Metropolitan              359\n",
       "1        Richmond  Northern Metropolitan              260\n",
       "2  Bentleigh East  Southern Metropolitan              249\n",
       "3         Preston  Northern Metropolitan              239\n",
       "4       Brunswick  Northern Metropolitan              222"
      ]
     },
     "execution_count": 166,
     "metadata": {},
     "output_type": "execute_result"
    }
   ],
   "source": [
    "top5_surbubs=house.groupby([\"Suburb\",\"Regionname\"])[\"Address\"].count().sort_values(ascending=False).head(5).reset_index(name=\"Property_number\")\n",
    "top5_surbubs"
   ]
  },
  {
   "cell_type": "markdown",
   "id": "72a6b2aa",
   "metadata": {},
   "source": [
    "#### We could see the top 5 suburbs are Reservoir, Richmond, Bentleigh East, Preston and Brunswick."
   ]
  },
  {
   "cell_type": "markdown",
   "id": "069ec3fc",
   "metadata": {},
   "source": [
    "### Q2. In which surburb, the average price/median price of properties is most expensive. "
   ]
  },
  {
   "cell_type": "code",
   "execution_count": 179,
   "id": "1b88d483",
   "metadata": {
    "scrolled": true
   },
   "outputs": [
    {
     "data": {
      "text/html": [
       "<div>\n",
       "<style scoped>\n",
       "    .dataframe tbody tr th:only-of-type {\n",
       "        vertical-align: middle;\n",
       "    }\n",
       "\n",
       "    .dataframe tbody tr th {\n",
       "        vertical-align: top;\n",
       "    }\n",
       "\n",
       "    .dataframe thead th {\n",
       "        text-align: right;\n",
       "    }\n",
       "</style>\n",
       "<table border=\"1\" class=\"dataframe\">\n",
       "  <thead>\n",
       "    <tr style=\"text-align: right;\">\n",
       "      <th></th>\n",
       "      <th>Regionname</th>\n",
       "      <th>Price</th>\n",
       "    </tr>\n",
       "  </thead>\n",
       "  <tbody>\n",
       "    <tr>\n",
       "      <th>5</th>\n",
       "      <td>Southern Metropolitan</td>\n",
       "      <td>1.372963e+06</td>\n",
       "    </tr>\n",
       "    <tr>\n",
       "      <th>0</th>\n",
       "      <td>Eastern Metropolitan</td>\n",
       "      <td>1.104080e+06</td>\n",
       "    </tr>\n",
       "    <tr>\n",
       "      <th>4</th>\n",
       "      <td>South-Eastern Metropolitan</td>\n",
       "      <td>9.229438e+05</td>\n",
       "    </tr>\n",
       "    <tr>\n",
       "      <th>2</th>\n",
       "      <td>Northern Metropolitan</td>\n",
       "      <td>8.981711e+05</td>\n",
       "    </tr>\n",
       "    <tr>\n",
       "      <th>6</th>\n",
       "      <td>Western Metropolitan</td>\n",
       "      <td>8.664205e+05</td>\n",
       "    </tr>\n",
       "    <tr>\n",
       "      <th>1</th>\n",
       "      <td>Eastern Victoria</td>\n",
       "      <td>6.999808e+05</td>\n",
       "    </tr>\n",
       "    <tr>\n",
       "      <th>3</th>\n",
       "      <td>Northern Victoria</td>\n",
       "      <td>5.948293e+05</td>\n",
       "    </tr>\n",
       "    <tr>\n",
       "      <th>7</th>\n",
       "      <td>Western Victoria</td>\n",
       "      <td>3.975234e+05</td>\n",
       "    </tr>\n",
       "  </tbody>\n",
       "</table>\n",
       "</div>"
      ],
      "text/plain": [
       "                   Regionname         Price\n",
       "5       Southern Metropolitan  1.372963e+06\n",
       "0        Eastern Metropolitan  1.104080e+06\n",
       "4  South-Eastern Metropolitan  9.229438e+05\n",
       "2       Northern Metropolitan  8.981711e+05\n",
       "6        Western Metropolitan  8.664205e+05\n",
       "1            Eastern Victoria  6.999808e+05\n",
       "3           Northern Victoria  5.948293e+05\n",
       "7            Western Victoria  3.975234e+05"
      ]
     },
     "execution_count": 179,
     "metadata": {},
     "output_type": "execute_result"
    }
   ],
   "source": [
    "Region_price=house.groupby(by=\"Regionname\",as_index=False)[\"Price\"].mean().sort_values(by=\"Price\",ascending=False)\n",
    "\n",
    "Region_price"
   ]
  },
  {
   "cell_type": "code",
   "execution_count": 185,
   "id": "1d66355d",
   "metadata": {},
   "outputs": [
    {
     "data": {
      "image/png": "[encoded data removed]",
      "text/plain": [
       "<Figure size 1008x432 with 1 Axes>"
      ]
     },
     "metadata": {
      "needs_background": "light"
     },
     "output_type": "display_data"
    }
   ],
   "source": [
    "x=Region_price[\"Regionname\"]\n",
    "y=Region_price[\"Price\"]\n",
    "fig, ax =plt.subplots(figsize=(14,6))\n",
    "width=0.75\n",
    "ax.barh(x,y,width,color=\"pink\")\n",
    "ax.set_title(\"Average price in each region\",fontsize=20)\n",
    "ax.set_xlabel(\"Average Price($M)\",fontsize=15)\n",
    "\n",
    "plt.show()"
   ]
  },
  {
   "cell_type": "markdown",
   "id": "49e3880f",
   "metadata": {},
   "source": [
    "### Check the distance of each Region"
   ]
  },
  {
   "cell_type": "code",
   "execution_count": 206,
   "id": "cf5ce784",
   "metadata": {},
   "outputs": [],
   "source": [
    "region_distance=house.groupby(\"Regionname\").agg(Min_Distance=(\"Distance\",np.min),Max_Distance=(\"Distance\",np.max),Mean_Distance=(\"Distance\",np.mean))"
   ]
  },
  {
   "cell_type": "code",
   "execution_count": 209,
   "id": "e485faf5",
   "metadata": {
    "scrolled": true
   },
   "outputs": [],
   "source": [
    "region_distance_price=pd.merge(Region_price,region_distance,on=[\"Regionname\",\"Regionname\"]).sort_values(by=\"Price\",ascending=True)"
   ]
  },
  {
   "cell_type": "code",
   "execution_count": 210,
   "id": "ad6a62e4",
   "metadata": {},
   "outputs": [
    {
     "data": {
      "text/html": [
       "<div>\n",
       "<style scoped>\n",
       "    .dataframe tbody tr th:only-of-type {\n",
       "        vertical-align: middle;\n",
       "    }\n",
       "\n",
       "    .dataframe tbody tr th {\n",
       "        vertical-align: top;\n",
       "    }\n",
       "\n",
       "    .dataframe thead th {\n",
       "        text-align: right;\n",
       "    }\n",
       "</style>\n",
       "<table border=\"1\" class=\"dataframe\">\n",
       "  <thead>\n",
       "    <tr style=\"text-align: right;\">\n",
       "      <th></th>\n",
       "      <th>Regionname</th>\n",
       "      <th>Price</th>\n",
       "      <th>Min_Distance</th>\n",
       "      <th>Max_Distance</th>\n",
       "      <th>Mean_Distance</th>\n",
       "    </tr>\n",
       "  </thead>\n",
       "  <tbody>\n",
       "    <tr>\n",
       "      <th>7</th>\n",
       "      <td>Western Victoria</td>\n",
       "      <td>3.975234e+05</td>\n",
       "      <td>29.8</td>\n",
       "      <td>37.5</td>\n",
       "      <td>30.753125</td>\n",
       "    </tr>\n",
       "    <tr>\n",
       "      <th>6</th>\n",
       "      <td>Northern Victoria</td>\n",
       "      <td>5.948293e+05</td>\n",
       "      <td>21.8</td>\n",
       "      <td>48.1</td>\n",
       "      <td>33.748780</td>\n",
       "    </tr>\n",
       "    <tr>\n",
       "      <th>5</th>\n",
       "      <td>Eastern Victoria</td>\n",
       "      <td>6.999808e+05</td>\n",
       "      <td>25.2</td>\n",
       "      <td>47.3</td>\n",
       "      <td>34.209434</td>\n",
       "    </tr>\n",
       "    <tr>\n",
       "      <th>4</th>\n",
       "      <td>Western Metropolitan</td>\n",
       "      <td>8.664205e+05</td>\n",
       "      <td>4.3</td>\n",
       "      <td>31.7</td>\n",
       "      <td>10.104579</td>\n",
       "    </tr>\n",
       "    <tr>\n",
       "      <th>3</th>\n",
       "      <td>Northern Metropolitan</td>\n",
       "      <td>8.981711e+05</td>\n",
       "      <td>0.0</td>\n",
       "      <td>25.9</td>\n",
       "      <td>8.078329</td>\n",
       "    </tr>\n",
       "    <tr>\n",
       "      <th>2</th>\n",
       "      <td>South-Eastern Metropolitan</td>\n",
       "      <td>9.229438e+05</td>\n",
       "      <td>14.7</td>\n",
       "      <td>38.0</td>\n",
       "      <td>23.813556</td>\n",
       "    </tr>\n",
       "    <tr>\n",
       "      <th>1</th>\n",
       "      <td>Eastern Metropolitan</td>\n",
       "      <td>1.104080e+06</td>\n",
       "      <td>7.8</td>\n",
       "      <td>27.0</td>\n",
       "      <td>13.901088</td>\n",
       "    </tr>\n",
       "    <tr>\n",
       "      <th>0</th>\n",
       "      <td>Southern Metropolitan</td>\n",
       "      <td>1.372963e+06</td>\n",
       "      <td>0.7</td>\n",
       "      <td>17.9</td>\n",
       "      <td>8.756656</td>\n",
       "    </tr>\n",
       "  </tbody>\n",
       "</table>\n",
       "</div>"
      ],
      "text/plain": [
       "                   Regionname         Price  Min_Distance  Max_Distance  \\\n",
       "7            Western Victoria  3.975234e+05          29.8          37.5   \n",
       "6           Northern Victoria  5.948293e+05          21.8          48.1   \n",
       "5            Eastern Victoria  6.999808e+05          25.2          47.3   \n",
       "4        Western Metropolitan  8.664205e+05           4.3          31.7   \n",
       "3       Northern Metropolitan  8.981711e+05           0.0          25.9   \n",
       "2  South-Eastern Metropolitan  9.229438e+05          14.7          38.0   \n",
       "1        Eastern Metropolitan  1.104080e+06           7.8          27.0   \n",
       "0       Southern Metropolitan  1.372963e+06           0.7          17.9   \n",
       "\n",
       "   Mean_Distance  \n",
       "7      30.753125  \n",
       "6      33.748780  \n",
       "5      34.209434  \n",
       "4      10.104579  \n",
       "3       8.078329  \n",
       "2      23.813556  \n",
       "1      13.901088  \n",
       "0       8.756656  "
      ]
     },
     "execution_count": 210,
     "metadata": {},
     "output_type": "execute_result"
    }
   ],
   "source": [
    "region_distance_price"
   ]
  },
  {
   "cell_type": "code",
   "execution_count": 211,
   "id": "f015d54e",
   "metadata": {},
   "outputs": [
    {
     "data": {
      "image/png": "[encoded data removed]",
      "text/plain": [
       "<Figure size 864x360 with 2 Axes>"
      ]
     },
     "metadata": {
      "needs_background": "light"
     },
     "output_type": "display_data"
    }
   ],
   "source": [
    "fig, ax = plt.subplots(figsize=(12,5))\n",
    "ax2 = ax.twinx()\n",
    "ax.set_title('The relationship between Price and Distance')\n",
    "ax.set_xlabel('Regionname')\n",
    "ax.plot(region_distance_price['Regionname'], region_distance_price['Price'], color='green', marker='x')\n",
    "ax2.plot(region_distance_price['Regionname'], region_distance_price['Mean_Distance'], color='red', marker='o')\n",
    "ax.set_ylabel('Price')\n",
    "ax2.set_ylabel('Distance')\n",
    "ax.legend(['Price'])\n",
    "ax2.legend(['Distance'], loc='upper center')\n",
    "ax.set_xticks(region_distance_price['Regionname'])\n",
    "plt.tight_layout()\n",
    "plt.show()"
   ]
  },
  {
   "cell_type": "markdown",
   "id": "d25f5ae3",
   "metadata": {},
   "source": [
    "### There is no particular pattern between distance and price from the perspective of Region.\n",
    "### We could analyse from other aspects."
   ]
  },
  {
   "cell_type": "code",
   "execution_count": 212,
   "id": "72b14be6",
   "metadata": {},
   "outputs": [
    {
     "data": {
      "text/plain": [
       "<AxesSubplot:xlabel='Distance', ylabel='Price'>"
      ]
     },
     "execution_count": 212,
     "metadata": {},
     "output_type": "execute_result"
    },
    {
     "data": {
      "image/png": "[encoded data removed]",
      "text/plain": [
       "<Figure size 432x288 with 1 Axes>"
      ]
     },
     "metadata": {
      "needs_background": "light"
     },
     "output_type": "display_data"
    }
   ],
   "source": [
    "house.plot.scatter(x=\"Distance\",y=\"Price\") "
   ]
  },
  {
   "cell_type": "code",
   "execution_count": 213,
   "id": "00a94f67",
   "metadata": {},
   "outputs": [],
   "source": [
    "### It is hard to identify the relationship. "
   ]
  },
  {
   "cell_type": "code",
   "execution_count": 214,
   "id": "149abb77",
   "metadata": {},
   "outputs": [
    {
     "data": {
      "image/png": "[encoded data removed]",
      "text/plain": [
       "<Figure size 432x288 with 1 Axes>"
      ]
     },
     "metadata": {
      "needs_background": "light"
     },
     "output_type": "display_data"
    }
   ],
   "source": [
    "surburb_distance=house.groupby(\"Suburb\")[\"Distance\"].mean().sort_values(ascending=False).reset_index(name=\"Distance\")\n",
    "surburb_price=house.groupby(\"Suburb\")[\"Price\"].mean().sort_values(ascending=False).reset_index(name=\"Price\")\n",
    "result=pd.merge(surburb_distance,surburb_price,on=[\"Suburb\",\"Suburb\"])\n",
    "x=result[\"Distance\"]\n",
    "y=result[\"Price\"]\n",
    "fig, ax = plt.subplots()\n",
    "_ = ax.scatter(x, y, c=x, cmap='plasma')\n",
    "z = np.polyfit(x, y, 1)\n",
    "p = np.poly1d(z)\n",
    "plt.plot(x, p(x), \"r-o\")\n",
    "\n",
    "plt.show()"
   ]
  },
  {
   "cell_type": "code",
   "execution_count": 215,
   "id": "874f0015",
   "metadata": {},
   "outputs": [],
   "source": [
    "### From suburb, we could clearly see the relationship between the distance and price. "
   ]
  },
  {
   "cell_type": "markdown",
   "id": "468308a8",
   "metadata": {},
   "source": [
    "### Q3. How the price distributes in different regions?"
   ]
  },
  {
   "cell_type": "code",
   "execution_count": 14,
   "id": "37bebc56",
   "metadata": {},
   "outputs": [
    {
     "data": {
      "text/plain": [
       "Text(0, 0.5, 'Number')"
      ]
     },
     "execution_count": 14,
     "metadata": {},
     "output_type": "execute_result"
    },
    {
     "data": {
      "image/png": "[encoded data removed]",
      "text/plain": [
       "<Figure size 432x288 with 1 Axes>"
      ]
     },
     "metadata": {
      "needs_background": "light"
     },
     "output_type": "display_data"
    }
   ],
   "source": [
    "sns.histplot(data=house,x=\"Price\").set(title=\"Price Distribution in all regions\")\n",
    "plt.ylabel(\"Number\")"
   ]
  },
  {
   "cell_type": "markdown",
   "id": "37a3bd5f",
   "metadata": {},
   "source": [
    "#### We could see the price of properties is mainly less then 1million."
   ]
  },
  {
   "cell_type": "code",
   "execution_count": 15,
   "id": "0e678df0",
   "metadata": {},
   "outputs": [
    {
     "data": {
      "text/plain": [
       "array(['Western Metropolitan', 'Southern Metropolitan',\n",
       "       'Eastern Metropolitan', 'Eastern Victoria',\n",
       "       'South-Eastern Metropolitan', 'Northern Metropolitan',\n",
       "       'Northern Victoria', 'Western Victoria'], dtype=object)"
      ]
     },
     "execution_count": 15,
     "metadata": {},
     "output_type": "execute_result"
    }
   ],
   "source": [
    "house[\"Regionname\"].unique()"
   ]
  },
  {
   "cell_type": "code",
   "execution_count": 16,
   "id": "69e2aa3e",
   "metadata": {},
   "outputs": [],
   "source": [
    "western_metropolitan=house[\"Price\"].loc[house[\"Regionname\"]==\"Western Metropolitan\"].values\n",
    "southern_metropolitan=house[\"Price\"].loc[house[\"Regionname\"]==\"Southern Metropolitan\"].values\n",
    "eastern_metropolitan=house[\"Price\"].loc[house[\"Regionname\"]==\"Eastern Metropolitan\"].values\n",
    "eastern_victoria=house[\"Price\"].loc[house[\"Regionname\"]==\"Eastern Victoria\"].values\n",
    "south_eastern_metropolitan=house[\"Price\"].loc[house[\"Regionname\"]==\"South-Eastern Metropolitan\"].values\n",
    "northern_metropolitan=house[\"Price\"].loc[house[\"Regionname\"]==\"Northern Metropolitan\"].values\n",
    "northern_victoria=house[\"Price\"].loc[house[\"Regionname\"]==\"Northern Victoria\"].values\n",
    "western_victoria=house[\"Price\"].loc[house[\"Regionname\"]==\"Western Victoria\"].values"
   ]
  },
  {
   "cell_type": "code",
   "execution_count": 17,
   "id": "707cf26b",
   "metadata": {},
   "outputs": [
    {
     "data": {
      "text/plain": [
       "Text(0, 0.5, 'Number')"
      ]
     },
     "execution_count": 17,
     "metadata": {},
     "output_type": "execute_result"
    },
    {
     "data": {
      "image/png": "[encoded data removed]",
      "text/plain": [
       "<Figure size 432x288 with 1 Axes>"
      ]
     },
     "metadata": {
      "needs_background": "light"
     },
     "output_type": "display_data"
    }
   ],
   "source": [
    "sns.histplot(data=western_metropolitan).set(title=\"Price Distribution in Western Metropolitan\")\n",
    "plt.ylabel(\"Number\")"
   ]
  },
  {
   "cell_type": "code",
   "execution_count": 18,
   "id": "383bed7d",
   "metadata": {},
   "outputs": [
    {
     "data": {
      "text/plain": [
       "[Text(0.5, 1.0, 'Southern Metropolitan')]"
      ]
     },
     "execution_count": 18,
     "metadata": {},
     "output_type": "execute_result"
    },
    {
     "data": {
      "image/png": "[encoded data removed]",
      "text/plain": [
       "<Figure size 432x288 with 1 Axes>"
      ]
     },
     "metadata": {
      "needs_background": "light"
     },
     "output_type": "display_data"
    }
   ],
   "source": [
    "sns.histplot(data=southern_metropolitan).set(title=\"Southern Metropolitan\")"
   ]
  },
  {
   "cell_type": "markdown",
   "id": "6defa5c5",
   "metadata": {},
   "source": [
    "### Q4. What is the sales amount within this period for each surburb."
   ]
  },
  {
   "cell_type": "code",
   "execution_count": 12,
   "id": "5df2f676",
   "metadata": {},
   "outputs": [
    {
     "data": {
      "text/plain": [
       "Suburb\n",
       "Kooyong         2.185000e+06\n",
       "Canterbury      2.180241e+06\n",
       "Middle Park     2.082529e+06\n",
       "Albert Park     1.941355e+06\n",
       "Brighton        1.930158e+06\n",
       "Balwyn          1.869879e+06\n",
       "Eaglemont       1.831696e+06\n",
       "Balwyn North    1.793405e+06\n",
       "Malvern         1.764993e+06\n",
       "Kew             1.758435e+06\n",
       "Name: Price, dtype: float64"
      ]
     },
     "execution_count": 12,
     "metadata": {},
     "output_type": "execute_result"
    }
   ],
   "source": [
    "house.groupby(\"Suburb\")[\"Price\"].mean().sort_values(ascending=False).head(10)"
   ]
  },
  {
   "cell_type": "code",
   "execution_count": 11,
   "id": "4ca6750d",
   "metadata": {},
   "outputs": [
    {
     "data": {
      "text/plain": [
       "Suburb\n",
       "Truganina        462870.000000\n",
       "Brookfield       456000.000000\n",
       "Melton West      433875.000000\n",
       "Melton           427208.333333\n",
       "Dallas           425000.000000\n",
       "Melton South     380736.111111\n",
       "Wallan           366000.000000\n",
       "Kurunjang        353000.000000\n",
       "Rockbank         340000.000000\n",
       "Bacchus Marsh    285000.000000\n",
       "Name: Price, dtype: float64"
      ]
     },
     "execution_count": 11,
     "metadata": {},
     "output_type": "execute_result"
    }
   ],
   "source": [
    "house.groupby(\"Suburb\")[\"Price\"].mean().sort_values(ascending=False).tail(10)"
   ]
  },
  {
   "cell_type": "markdown",
   "id": "1ecd8f57",
   "metadata": {},
   "source": [
    "### Q5. Who are the top 5 agencies( how many properties have sold). \n",
    "### Q5.1 According to the properties amount\n",
    "### Q5.2 Acoording to the area"
   ]
  },
  {
   "cell_type": "code",
   "execution_count": 83,
   "id": "cfa06e4c",
   "metadata": {},
   "outputs": [
    {
     "data": {
      "text/plain": [
       "SellerG\n",
       "Nelson           1565\n",
       "Jellis           1316\n",
       "hockingstuart    1167\n",
       "Barry            1011\n",
       "Ray               701\n",
       "Name: SellerG, dtype: int64"
      ]
     },
     "execution_count": 83,
     "metadata": {},
     "output_type": "execute_result"
    }
   ],
   "source": [
    "house.groupby(\"SellerG\")[\"SellerG\"].count().sort_values(ascending=False).head(5)"
   ]
  },
  {
   "cell_type": "code",
   "execution_count": 84,
   "id": "9f75b7fd",
   "metadata": {
    "scrolled": true
   },
   "outputs": [
    {
     "data": {
      "text/html": [
       "<div>\n",
       "<style scoped>\n",
       "    .dataframe tbody tr th:only-of-type {\n",
       "        vertical-align: middle;\n",
       "    }\n",
       "\n",
       "    .dataframe tbody tr th {\n",
       "        vertical-align: top;\n",
       "    }\n",
       "\n",
       "    .dataframe thead th {\n",
       "        text-align: right;\n",
       "    }\n",
       "</style>\n",
       "<table border=\"1\" class=\"dataframe\">\n",
       "  <thead>\n",
       "    <tr style=\"text-align: right;\">\n",
       "      <th></th>\n",
       "      <th>SellerG</th>\n",
       "      <th>Type</th>\n",
       "      <th>count</th>\n",
       "    </tr>\n",
       "  </thead>\n",
       "  <tbody>\n",
       "    <tr>\n",
       "      <th>0</th>\n",
       "      <td>Barry</td>\n",
       "      <td>h</td>\n",
       "      <td>820</td>\n",
       "    </tr>\n",
       "    <tr>\n",
       "      <th>1</th>\n",
       "      <td>Barry</td>\n",
       "      <td>t</td>\n",
       "      <td>74</td>\n",
       "    </tr>\n",
       "    <tr>\n",
       "      <th>2</th>\n",
       "      <td>Barry</td>\n",
       "      <td>u</td>\n",
       "      <td>117</td>\n",
       "    </tr>\n",
       "    <tr>\n",
       "      <th>3</th>\n",
       "      <td>Jellis</td>\n",
       "      <td>h</td>\n",
       "      <td>875</td>\n",
       "    </tr>\n",
       "    <tr>\n",
       "      <th>4</th>\n",
       "      <td>Jellis</td>\n",
       "      <td>t</td>\n",
       "      <td>129</td>\n",
       "    </tr>\n",
       "    <tr>\n",
       "      <th>5</th>\n",
       "      <td>Jellis</td>\n",
       "      <td>u</td>\n",
       "      <td>312</td>\n",
       "    </tr>\n",
       "    <tr>\n",
       "      <th>6</th>\n",
       "      <td>Nelson</td>\n",
       "      <td>h</td>\n",
       "      <td>1160</td>\n",
       "    </tr>\n",
       "    <tr>\n",
       "      <th>7</th>\n",
       "      <td>Nelson</td>\n",
       "      <td>t</td>\n",
       "      <td>134</td>\n",
       "    </tr>\n",
       "    <tr>\n",
       "      <th>8</th>\n",
       "      <td>Nelson</td>\n",
       "      <td>u</td>\n",
       "      <td>271</td>\n",
       "    </tr>\n",
       "    <tr>\n",
       "      <th>9</th>\n",
       "      <td>Ray</td>\n",
       "      <td>h</td>\n",
       "      <td>528</td>\n",
       "    </tr>\n",
       "    <tr>\n",
       "      <th>10</th>\n",
       "      <td>Ray</td>\n",
       "      <td>t</td>\n",
       "      <td>55</td>\n",
       "    </tr>\n",
       "    <tr>\n",
       "      <th>11</th>\n",
       "      <td>Ray</td>\n",
       "      <td>u</td>\n",
       "      <td>118</td>\n",
       "    </tr>\n",
       "    <tr>\n",
       "      <th>12</th>\n",
       "      <td>hockingstuart</td>\n",
       "      <td>h</td>\n",
       "      <td>673</td>\n",
       "    </tr>\n",
       "    <tr>\n",
       "      <th>13</th>\n",
       "      <td>hockingstuart</td>\n",
       "      <td>t</td>\n",
       "      <td>97</td>\n",
       "    </tr>\n",
       "    <tr>\n",
       "      <th>14</th>\n",
       "      <td>hockingstuart</td>\n",
       "      <td>u</td>\n",
       "      <td>397</td>\n",
       "    </tr>\n",
       "  </tbody>\n",
       "</table>\n",
       "</div>"
      ],
      "text/plain": [
       "          SellerG Type  count\n",
       "0           Barry    h    820\n",
       "1           Barry    t     74\n",
       "2           Barry    u    117\n",
       "3          Jellis    h    875\n",
       "4          Jellis    t    129\n",
       "5          Jellis    u    312\n",
       "6          Nelson    h   1160\n",
       "7          Nelson    t    134\n",
       "8          Nelson    u    271\n",
       "9             Ray    h    528\n",
       "10            Ray    t     55\n",
       "11            Ray    u    118\n",
       "12  hockingstuart    h    673\n",
       "13  hockingstuart    t     97\n",
       "14  hockingstuart    u    397"
      ]
     },
     "execution_count": 84,
     "metadata": {},
     "output_type": "execute_result"
    }
   ],
   "source": [
    "top5=house.loc[house.SellerG.isin([\"Nelson\",\"Jellis\",\"hockingstuart\",\"Barry\",\"Ray\"])].groupby(by=[\"SellerG\",\"Type\"])[\"Type\"].count().reset_index(name=\"count\")\n",
    "top5"
   ]
  },
  {
   "cell_type": "code",
   "execution_count": 85,
   "id": "be7889e4",
   "metadata": {},
   "outputs": [
    {
     "data": {
      "text/plain": [
       "[Text(0.5, 1.0, 'Listed Properties Numbers of Top 5 Agnecy')]"
      ]
     },
     "execution_count": 85,
     "metadata": {},
     "output_type": "execute_result"
    },
    {
     "data": {
      "image/png": "[encoded data removed]",
      "text/plain": [
       "<Figure size 432x288 with 1 Axes>"
      ]
     },
     "metadata": {
      "needs_background": "light"
     },
     "output_type": "display_data"
    }
   ],
   "source": [
    "sns.barplot(data=top5,x=\"SellerG\",y=\"count\",hue=\"Type\").set(title=\"Listed Properties Numbers of Top 5 Agnecy\")"
   ]
  },
  {
   "cell_type": "markdown",
   "id": "45983b2a",
   "metadata": {},
   "source": [
    "#### The top 5 seller is Nelson, Jellis, hockingstuart ,Barry and Ray. Most of the properties they sold is house.\n",
    "### Then we could research which area is the main market of these five sellers."
   ]
  },
  {
   "cell_type": "code",
   "execution_count": 222,
   "id": "7c4fb33f",
   "metadata": {},
   "outputs": [
    {
     "data": {
      "text/plain": [
       "SellerG        Regionname                \n",
       "Barry          Eastern Metropolitan          293\n",
       "               Eastern Victoria                3\n",
       "               Northern Metropolitan         323\n",
       "               Northern Victoria               2\n",
       "               South-Eastern Metropolitan     28\n",
       "               Southern Metropolitan          25\n",
       "               Western Metropolitan          337\n",
       "Jellis         Eastern Metropolitan          139\n",
       "               Northern Metropolitan         474\n",
       "               South-Eastern Metropolitan      3\n",
       "               Southern Metropolitan         640\n",
       "               Western Metropolitan           60\n",
       "Nelson         Eastern Metropolitan           90\n",
       "               Northern Metropolitan         938\n",
       "               South-Eastern Metropolitan      2\n",
       "               Southern Metropolitan          55\n",
       "               Western Metropolitan          480\n",
       "Ray            Eastern Metropolitan          157\n",
       "               Eastern Victoria                6\n",
       "               Northern Metropolitan         263\n",
       "               Northern Victoria               2\n",
       "               South-Eastern Metropolitan     82\n",
       "               Southern Metropolitan         165\n",
       "               Western Metropolitan           25\n",
       "               Western Victoria                1\n",
       "hockingstuart  Eastern Metropolitan           54\n",
       "               Eastern Victoria                3\n",
       "               Northern Metropolitan         258\n",
       "               Northern Victoria               6\n",
       "               South-Eastern Metropolitan     39\n",
       "               Southern Metropolitan         642\n",
       "               Western Metropolitan          156\n",
       "               Western Victoria                9\n",
       "Name: SellerG, dtype: int64"
      ]
     },
     "execution_count": 222,
     "metadata": {},
     "output_type": "execute_result"
    }
   ],
   "source": [
    "house.loc[house.SellerG.isin([\"Nelson\",\"Jellis\",\"hockingstuart\",\"Barry\",\"Ray\"])].groupby([\"SellerG\",\"Regionname\"])[\"SellerG\"].count()"
   ]
  },
  {
   "cell_type": "code",
   "execution_count": 223,
   "id": "d478f647",
   "metadata": {},
   "outputs": [],
   "source": [
    "###? draw a distribution map?"
   ]
  },
  {
   "cell_type": "markdown",
   "id": "8ed969e0",
   "metadata": {},
   "source": [
    "### Q6. What is percentage of different property types in Melbourne?"
   ]
  },
  {
   "cell_type": "code",
   "execution_count": 22,
   "id": "fd2c3961",
   "metadata": {},
   "outputs": [
    {
     "data": {
      "text/plain": [
       "Type\n",
       "h    9449\n",
       "t    1114\n",
       "u    3017\n",
       "Name: Type, dtype: int64"
      ]
     },
     "execution_count": 22,
     "metadata": {},
     "output_type": "execute_result"
    }
   ],
   "source": [
    "type_number=house.groupby(\"Type\")[\"Type\"].count()\n",
    "type_number"
   ]
  },
  {
   "cell_type": "code",
   "execution_count": 23,
   "id": "53b87c6a",
   "metadata": {},
   "outputs": [
    {
     "data": {
      "image/png": "[encoded data removed]",
      "text/plain": [
       "<Figure size 720x432 with 1 Axes>"
      ]
     },
     "metadata": {},
     "output_type": "display_data"
    }
   ],
   "source": [
    "labels=[\"house\",\"townhouse\",\"unit\"]\n",
    "colors=sns.color_palette(\"pastel\")[0:3]\n",
    "pie,ax=plt.subplots(figsize=(10,6))\n",
    "plt.pie(type_number,labels=labels,colors=colors,autopct=\"%.0f%%\")\n",
    "plt.title(\"The percentage of different property types sold in Melbourne\")\n",
    "plt.show()"
   ]
  },
  {
   "cell_type": "markdown",
   "id": "350b5a4a",
   "metadata": {},
   "source": [
    "### Q8. Is there any busy season for the house selling?"
   ]
  },
  {
   "cell_type": "code",
   "execution_count": 57,
   "id": "2ad2f8bc",
   "metadata": {},
   "outputs": [
    {
     "name": "stderr",
     "output_type": "stream",
     "text": [
      "/Users/huhuhu/opt/anaconda3/lib/python3.9/site-packages/pandas/core/indexes/datetimes.py:327: UserWarning: Parsing '27/11/2016' in DD/MM/YYYY format. Provide format or specify infer_datetime_format=True for consistent parsing.\n",
      "  dtarr = DatetimeArray._from_sequence_not_strict(\n",
      "/Users/huhuhu/opt/anaconda3/lib/python3.9/site-packages/pandas/core/indexes/datetimes.py:327: UserWarning: Parsing '19/11/2016' in DD/MM/YYYY format. Provide format or specify infer_datetime_format=True for consistent parsing.\n",
      "  dtarr = DatetimeArray._from_sequence_not_strict(\n",
      "/Users/huhuhu/opt/anaconda3/lib/python3.9/site-packages/pandas/core/indexes/datetimes.py:327: UserWarning: Parsing '15/10/2016' in DD/MM/YYYY format. Provide format or specify infer_datetime_format=True for consistent parsing.\n",
      "  dtarr = DatetimeArray._from_sequence_not_strict(\n"
     ]
    }
   ],
   "source": [
    "#extract month from dataframe\n",
    "house[\"month\"]=pd.DatetimeIndex(house['Date']).month"
   ]
  },
  {
   "cell_type": "code",
   "execution_count": 67,
   "id": "7453c4c2",
   "metadata": {},
   "outputs": [],
   "source": [
    "house_sales=house.groupby(\"month\")[\"Price\"].sum().reset_index(name=\"Sale_amount\")\n",
    "house_sales=house_sales.sort_values(by=\"month\")"
   ]
  },
  {
   "cell_type": "code",
   "execution_count": 69,
   "id": "7e88b92c",
   "metadata": {},
   "outputs": [
    {
     "data": {
      "text/html": [
       "<div>\n",
       "<style scoped>\n",
       "    .dataframe tbody tr th:only-of-type {\n",
       "        vertical-align: middle;\n",
       "    }\n",
       "\n",
       "    .dataframe tbody tr th {\n",
       "        vertical-align: top;\n",
       "    }\n",
       "\n",
       "    .dataframe thead th {\n",
       "        text-align: right;\n",
       "    }\n",
       "</style>\n",
       "<table border=\"1\" class=\"dataframe\">\n",
       "  <thead>\n",
       "    <tr style=\"text-align: right;\">\n",
       "      <th></th>\n",
       "      <th>month</th>\n",
       "      <th>Sale_amount</th>\n",
       "    </tr>\n",
       "  </thead>\n",
       "  <tbody>\n",
       "    <tr>\n",
       "      <th>0</th>\n",
       "      <td>1</td>\n",
       "      <td>261262200</td>\n",
       "    </tr>\n",
       "    <tr>\n",
       "      <th>1</th>\n",
       "      <td>2</td>\n",
       "      <td>389294088</td>\n",
       "    </tr>\n",
       "    <tr>\n",
       "      <th>2</th>\n",
       "      <td>3</td>\n",
       "      <td>1614641017</td>\n",
       "    </tr>\n",
       "    <tr>\n",
       "      <th>3</th>\n",
       "      <td>4</td>\n",
       "      <td>1308896688</td>\n",
       "    </tr>\n",
       "    <tr>\n",
       "      <th>4</th>\n",
       "      <td>5</td>\n",
       "      <td>1804795039</td>\n",
       "    </tr>\n",
       "    <tr>\n",
       "      <th>5</th>\n",
       "      <td>6</td>\n",
       "      <td>1570333714</td>\n",
       "    </tr>\n",
       "    <tr>\n",
       "      <th>6</th>\n",
       "      <td>7</td>\n",
       "      <td>1709247034</td>\n",
       "    </tr>\n",
       "    <tr>\n",
       "      <th>7</th>\n",
       "      <td>8</td>\n",
       "      <td>1954287081</td>\n",
       "    </tr>\n",
       "    <tr>\n",
       "      <th>8</th>\n",
       "      <td>9</td>\n",
       "      <td>1338102426</td>\n",
       "    </tr>\n",
       "    <tr>\n",
       "      <th>9</th>\n",
       "      <td>10</td>\n",
       "      <td>970118298</td>\n",
       "    </tr>\n",
       "    <tr>\n",
       "      <th>10</th>\n",
       "      <td>11</td>\n",
       "      <td>856877564</td>\n",
       "    </tr>\n",
       "    <tr>\n",
       "      <th>11</th>\n",
       "      <td>12</td>\n",
       "      <td>829934650</td>\n",
       "    </tr>\n",
       "  </tbody>\n",
       "</table>\n",
       "</div>"
      ],
      "text/plain": [
       "    month  Sale_amount\n",
       "0       1    261262200\n",
       "1       2    389294088\n",
       "2       3   1614641017\n",
       "3       4   1308896688\n",
       "4       5   1804795039\n",
       "5       6   1570333714\n",
       "6       7   1709247034\n",
       "7       8   1954287081\n",
       "8       9   1338102426\n",
       "9      10    970118298\n",
       "10     11    856877564\n",
       "11     12    829934650"
      ]
     },
     "execution_count": 69,
     "metadata": {},
     "output_type": "execute_result"
    }
   ],
   "source": [
    "house_sales"
   ]
  },
  {
   "cell_type": "code",
   "execution_count": 72,
   "id": "427cc5ea",
   "metadata": {},
   "outputs": [
    {
     "data": {
      "image/png": "[encoded data removed]",
      "text/plain": [
       "<Figure size 720x432 with 1 Axes>"
      ]
     },
     "metadata": {},
     "output_type": "display_data"
    }
   ],
   "source": [
    "labels=[\"Jan\",\"Feb\",\"Mar\",\"Apr\",\"May\",\"June\",\"July\",\"Aug\",\"Sep\",\"Oct\",\"Nov\",\"Dec\"]\n",
    "colors=sns.color_palette(\"pastel\")\n",
    "pie,ax=plt.subplots(figsize=(10,6))\n",
    "plt.pie(house_sales[\"Sale_amount\"],labels=labels,colors=colors,autopct=\"%.0f%%\")\n",
    "plt.title(\"Sales by Month\")\n",
    "plt.show()"
   ]
  },
  {
   "cell_type": "code",
   "execution_count": null,
   "id": "97f6c811",
   "metadata": {},
   "outputs": [],
   "source": [
    "#compare the sales by year (line chart)\n"
   ]
  },
  {
   "cell_type": "markdown",
   "id": "1817cb12",
   "metadata": {},
   "source": [
    "### Q9. Would the method of selling will affect the price?"
   ]
  },
  {
   "cell_type": "code",
   "execution_count": 82,
   "id": "10d4d099",
   "metadata": {},
   "outputs": [
    {
     "data": {
      "text/plain": [
       "array(['S', 'VB', 'SP', 'PI', 'SA'], dtype=object)"
      ]
     },
     "execution_count": 82,
     "metadata": {},
     "output_type": "execute_result"
    }
   ],
   "source": [
    "house.Method.unique()"
   ]
  },
  {
   "cell_type": "code",
   "execution_count": 143,
   "id": "1930f649",
   "metadata": {},
   "outputs": [
    {
     "data": {
      "text/plain": [
       "Method\n",
       "PI    1.133242e+06\n",
       "S     1.087327e+06\n",
       "SA    1.025772e+06\n",
       "SP    8.998924e+05\n",
       "VB    1.166510e+06\n",
       "Name: Price, dtype: float64"
      ]
     },
     "execution_count": 143,
     "metadata": {},
     "output_type": "execute_result"
    }
   ],
   "source": [
    "house.groupby(\"Method\")[\"Price\"].mean()"
   ]
  },
  {
   "cell_type": "code",
   "execution_count": null,
   "id": "103cbcc2",
   "metadata": {},
   "outputs": [],
   "source": [
    "###draw a bar cahrt?"
   ]
  },
  {
   "cell_type": "markdown",
   "id": "3bb5f958",
   "metadata": {},
   "source": [
    "### Q10.  is property type, land size, the amount of bedroom and bathroom, car park number will affect the price?"
   ]
  },
  {
   "cell_type": "code",
   "execution_count": 167,
   "id": "fd639b14",
   "metadata": {},
   "outputs": [
    {
     "data": {
      "text/html": [
       "<div>\n",
       "<style scoped>\n",
       "    .dataframe tbody tr th:only-of-type {\n",
       "        vertical-align: middle;\n",
       "    }\n",
       "\n",
       "    .dataframe tbody tr th {\n",
       "        vertical-align: top;\n",
       "    }\n",
       "\n",
       "    .dataframe thead th {\n",
       "        text-align: right;\n",
       "    }\n",
       "</style>\n",
       "<table border=\"1\" class=\"dataframe\">\n",
       "  <thead>\n",
       "    <tr style=\"text-align: right;\">\n",
       "      <th></th>\n",
       "      <th>Suburb</th>\n",
       "      <th>Address</th>\n",
       "      <th>Rooms</th>\n",
       "      <th>Type</th>\n",
       "      <th>Price</th>\n",
       "      <th>Method</th>\n",
       "      <th>SellerG</th>\n",
       "      <th>Date</th>\n",
       "      <th>Distance</th>\n",
       "      <th>Postcode</th>\n",
       "      <th>...</th>\n",
       "      <th>Car</th>\n",
       "      <th>Landsize</th>\n",
       "      <th>BuildingArea</th>\n",
       "      <th>YearBuilt</th>\n",
       "      <th>CouncilArea</th>\n",
       "      <th>Lattitude</th>\n",
       "      <th>Longtitude</th>\n",
       "      <th>Regionname</th>\n",
       "      <th>Propertycount</th>\n",
       "      <th>month</th>\n",
       "    </tr>\n",
       "  </thead>\n",
       "  <tbody>\n",
       "    <tr>\n",
       "      <th>0</th>\n",
       "      <td>Aberfeldie</td>\n",
       "      <td>10 Caroline St</td>\n",
       "      <td>5</td>\n",
       "      <td>h</td>\n",
       "      <td>1830000</td>\n",
       "      <td>S</td>\n",
       "      <td>Rendina</td>\n",
       "      <td>23/9/2017</td>\n",
       "      <td>7.5</td>\n",
       "      <td>3040</td>\n",
       "      <td>...</td>\n",
       "      <td>4.0</td>\n",
       "      <td>730</td>\n",
       "      <td>373.0</td>\n",
       "      <td>2014.0</td>\n",
       "      <td>NaN</td>\n",
       "      <td>-37.75950</td>\n",
       "      <td>144.89427</td>\n",
       "      <td>Western Metropolitan</td>\n",
       "      <td>1543</td>\n",
       "      <td>9</td>\n",
       "    </tr>\n",
       "    <tr>\n",
       "      <th>1</th>\n",
       "      <td>Airport West</td>\n",
       "      <td>33 Bedford St</td>\n",
       "      <td>3</td>\n",
       "      <td>h</td>\n",
       "      <td>860000</td>\n",
       "      <td>S</td>\n",
       "      <td>Harcourts</td>\n",
       "      <td>23/9/2017</td>\n",
       "      <td>10.4</td>\n",
       "      <td>3042</td>\n",
       "      <td>...</td>\n",
       "      <td>2.0</td>\n",
       "      <td>593</td>\n",
       "      <td>NaN</td>\n",
       "      <td>NaN</td>\n",
       "      <td>NaN</td>\n",
       "      <td>-37.72057</td>\n",
       "      <td>144.87558</td>\n",
       "      <td>Western Metropolitan</td>\n",
       "      <td>3464</td>\n",
       "      <td>9</td>\n",
       "    </tr>\n",
       "    <tr>\n",
       "      <th>2</th>\n",
       "      <td>Airport West</td>\n",
       "      <td>16 Highridge Cr</td>\n",
       "      <td>3</td>\n",
       "      <td>h</td>\n",
       "      <td>850000</td>\n",
       "      <td>S</td>\n",
       "      <td>Brad</td>\n",
       "      <td>23/9/2017</td>\n",
       "      <td>10.4</td>\n",
       "      <td>3042</td>\n",
       "      <td>...</td>\n",
       "      <td>2.0</td>\n",
       "      <td>551</td>\n",
       "      <td>96.0</td>\n",
       "      <td>1950.0</td>\n",
       "      <td>NaN</td>\n",
       "      <td>-37.72739</td>\n",
       "      <td>144.88235</td>\n",
       "      <td>Western Metropolitan</td>\n",
       "      <td>3464</td>\n",
       "      <td>9</td>\n",
       "    </tr>\n",
       "    <tr>\n",
       "      <th>3</th>\n",
       "      <td>Albanvale</td>\n",
       "      <td>5 Hedgerow Ct</td>\n",
       "      <td>3</td>\n",
       "      <td>h</td>\n",
       "      <td>565000</td>\n",
       "      <td>S</td>\n",
       "      <td>Bells</td>\n",
       "      <td>23/9/2017</td>\n",
       "      <td>14.0</td>\n",
       "      <td>3021</td>\n",
       "      <td>...</td>\n",
       "      <td>2.0</td>\n",
       "      <td>619</td>\n",
       "      <td>NaN</td>\n",
       "      <td>NaN</td>\n",
       "      <td>NaN</td>\n",
       "      <td>-37.74521</td>\n",
       "      <td>144.76863</td>\n",
       "      <td>Western Metropolitan</td>\n",
       "      <td>1899</td>\n",
       "      <td>9</td>\n",
       "    </tr>\n",
       "    <tr>\n",
       "      <th>4</th>\n",
       "      <td>Albert Park</td>\n",
       "      <td>59 Moubray St</td>\n",
       "      <td>3</td>\n",
       "      <td>h</td>\n",
       "      <td>2100000</td>\n",
       "      <td>VB</td>\n",
       "      <td>Cayzer</td>\n",
       "      <td>23/9/2017</td>\n",
       "      <td>3.0</td>\n",
       "      <td>3206</td>\n",
       "      <td>...</td>\n",
       "      <td>NaN</td>\n",
       "      <td>137</td>\n",
       "      <td>125.0</td>\n",
       "      <td>1890.0</td>\n",
       "      <td>NaN</td>\n",
       "      <td>-37.84388</td>\n",
       "      <td>144.95303</td>\n",
       "      <td>Southern Metropolitan</td>\n",
       "      <td>3280</td>\n",
       "      <td>9</td>\n",
       "    </tr>\n",
       "  </tbody>\n",
       "</table>\n",
       "<p>5 rows × 22 columns</p>\n",
       "</div>"
      ],
      "text/plain": [
       "         Suburb          Address  Rooms Type    Price Method    SellerG  \\\n",
       "0    Aberfeldie   10 Caroline St      5    h  1830000      S    Rendina   \n",
       "1  Airport West    33 Bedford St      3    h   860000      S  Harcourts   \n",
       "2  Airport West  16 Highridge Cr      3    h   850000      S       Brad   \n",
       "3     Albanvale    5 Hedgerow Ct      3    h   565000      S      Bells   \n",
       "4   Albert Park    59 Moubray St      3    h  2100000     VB     Cayzer   \n",
       "\n",
       "        Date  Distance  Postcode  ...  Car  Landsize  BuildingArea  YearBuilt  \\\n",
       "0  23/9/2017       7.5      3040  ...  4.0       730         373.0     2014.0   \n",
       "1  23/9/2017      10.4      3042  ...  2.0       593           NaN        NaN   \n",
       "2  23/9/2017      10.4      3042  ...  2.0       551          96.0     1950.0   \n",
       "3  23/9/2017      14.0      3021  ...  2.0       619           NaN        NaN   \n",
       "4  23/9/2017       3.0      3206  ...  NaN       137         125.0     1890.0   \n",
       "\n",
       "   CouncilArea  Lattitude Longtitude             Regionname  Propertycount  \\\n",
       "0          NaN  -37.75950  144.89427   Western Metropolitan           1543   \n",
       "1          NaN  -37.72057  144.87558   Western Metropolitan           3464   \n",
       "2          NaN  -37.72739  144.88235   Western Metropolitan           3464   \n",
       "3          NaN  -37.74521  144.76863   Western Metropolitan           1899   \n",
       "4          NaN  -37.84388  144.95303  Southern Metropolitan           3280   \n",
       "\n",
       "  month  \n",
       "0     9  \n",
       "1     9  \n",
       "2     9  \n",
       "3     9  \n",
       "4     9  \n",
       "\n",
       "[5 rows x 22 columns]"
      ]
     },
     "execution_count": 167,
     "metadata": {},
     "output_type": "execute_result"
    }
   ],
   "source": [
    "house.head(5)"
   ]
  },
  {
   "cell_type": "code",
   "execution_count": 171,
   "id": "dec2d3d7",
   "metadata": {},
   "outputs": [
    {
     "data": {
      "text/html": [
       "<div>\n",
       "<style scoped>\n",
       "    .dataframe tbody tr th:only-of-type {\n",
       "        vertical-align: middle;\n",
       "    }\n",
       "\n",
       "    .dataframe tbody tr th {\n",
       "        vertical-align: top;\n",
       "    }\n",
       "\n",
       "    .dataframe thead th {\n",
       "        text-align: right;\n",
       "    }\n",
       "</style>\n",
       "<table border=\"1\" class=\"dataframe\">\n",
       "  <thead>\n",
       "    <tr style=\"text-align: right;\">\n",
       "      <th></th>\n",
       "      <th>Rooms</th>\n",
       "      <th>Price</th>\n",
       "      <th>Distance</th>\n",
       "      <th>Car</th>\n",
       "      <th>Landsize</th>\n",
       "      <th>Bedroom2</th>\n",
       "      <th>Bathroom</th>\n",
       "    </tr>\n",
       "  </thead>\n",
       "  <tbody>\n",
       "    <tr>\n",
       "      <th>0</th>\n",
       "      <td>5</td>\n",
       "      <td>1830000</td>\n",
       "      <td>7.5</td>\n",
       "      <td>4.0</td>\n",
       "      <td>730</td>\n",
       "      <td>5</td>\n",
       "      <td>4</td>\n",
       "    </tr>\n",
       "    <tr>\n",
       "      <th>1</th>\n",
       "      <td>3</td>\n",
       "      <td>860000</td>\n",
       "      <td>10.4</td>\n",
       "      <td>2.0</td>\n",
       "      <td>593</td>\n",
       "      <td>3</td>\n",
       "      <td>2</td>\n",
       "    </tr>\n",
       "    <tr>\n",
       "      <th>2</th>\n",
       "      <td>3</td>\n",
       "      <td>850000</td>\n",
       "      <td>10.4</td>\n",
       "      <td>2.0</td>\n",
       "      <td>551</td>\n",
       "      <td>3</td>\n",
       "      <td>1</td>\n",
       "    </tr>\n",
       "    <tr>\n",
       "      <th>3</th>\n",
       "      <td>3</td>\n",
       "      <td>565000</td>\n",
       "      <td>14.0</td>\n",
       "      <td>2.0</td>\n",
       "      <td>619</td>\n",
       "      <td>3</td>\n",
       "      <td>1</td>\n",
       "    </tr>\n",
       "    <tr>\n",
       "      <th>4</th>\n",
       "      <td>3</td>\n",
       "      <td>2100000</td>\n",
       "      <td>3.0</td>\n",
       "      <td>NaN</td>\n",
       "      <td>137</td>\n",
       "      <td>3</td>\n",
       "      <td>2</td>\n",
       "    </tr>\n",
       "    <tr>\n",
       "      <th>...</th>\n",
       "      <td>...</td>\n",
       "      <td>...</td>\n",
       "      <td>...</td>\n",
       "      <td>...</td>\n",
       "      <td>...</td>\n",
       "      <td>...</td>\n",
       "      <td>...</td>\n",
       "    </tr>\n",
       "    <tr>\n",
       "      <th>13575</th>\n",
       "      <td>1</td>\n",
       "      <td>250000</td>\n",
       "      <td>11.8</td>\n",
       "      <td>1.0</td>\n",
       "      <td>0</td>\n",
       "      <td>1</td>\n",
       "      <td>1</td>\n",
       "    </tr>\n",
       "    <tr>\n",
       "      <th>13576</th>\n",
       "      <td>3</td>\n",
       "      <td>1415000</td>\n",
       "      <td>8.2</td>\n",
       "      <td>6.0</td>\n",
       "      <td>970</td>\n",
       "      <td>3</td>\n",
       "      <td>1</td>\n",
       "    </tr>\n",
       "    <tr>\n",
       "      <th>13577</th>\n",
       "      <td>2</td>\n",
       "      <td>765000</td>\n",
       "      <td>13.9</td>\n",
       "      <td>2.0</td>\n",
       "      <td>672</td>\n",
       "      <td>2</td>\n",
       "      <td>1</td>\n",
       "    </tr>\n",
       "    <tr>\n",
       "      <th>13578</th>\n",
       "      <td>2</td>\n",
       "      <td>813000</td>\n",
       "      <td>11.2</td>\n",
       "      <td>2.0</td>\n",
       "      <td>108</td>\n",
       "      <td>2</td>\n",
       "      <td>1</td>\n",
       "    </tr>\n",
       "    <tr>\n",
       "      <th>13579</th>\n",
       "      <td>3</td>\n",
       "      <td>1205000</td>\n",
       "      <td>11.2</td>\n",
       "      <td>2.0</td>\n",
       "      <td>490</td>\n",
       "      <td>3</td>\n",
       "      <td>1</td>\n",
       "    </tr>\n",
       "  </tbody>\n",
       "</table>\n",
       "<p>13580 rows × 7 columns</p>\n",
       "</div>"
      ],
      "text/plain": [
       "       Rooms    Price  Distance  Car  Landsize  Bedroom2  Bathroom\n",
       "0          5  1830000       7.5  4.0       730         5         4\n",
       "1          3   860000      10.4  2.0       593         3         2\n",
       "2          3   850000      10.4  2.0       551         3         1\n",
       "3          3   565000      14.0  2.0       619         3         1\n",
       "4          3  2100000       3.0  NaN       137         3         2\n",
       "...      ...      ...       ...  ...       ...       ...       ...\n",
       "13575      1   250000      11.8  1.0         0         1         1\n",
       "13576      3  1415000       8.2  6.0       970         3         1\n",
       "13577      2   765000      13.9  2.0       672         2         1\n",
       "13578      2   813000      11.2  2.0       108         2         1\n",
       "13579      3  1205000      11.2  2.0       490         3         1\n",
       "\n",
       "[13580 rows x 7 columns]"
      ]
     },
     "execution_count": 171,
     "metadata": {},
     "output_type": "execute_result"
    }
   ],
   "source": [
    "df=house[[\"Rooms\",\"Price\",\"Distance\",\"Car\",\"Landsize\",\"Bedroom2\",\"Bathroom\"]]\n",
    "df"
   ]
  },
  {
   "cell_type": "code",
   "execution_count": 175,
   "id": "538c8b57",
   "metadata": {},
   "outputs": [
    {
     "data": {
      "text/plain": [
       "<AxesSubplot:>"
      ]
     },
     "execution_count": 175,
     "metadata": {},
     "output_type": "execute_result"
    },
    {
     "data": {
      "image/png": "[encoded data removed]",
      "text/plain": [
       "<Figure size 432x288 with 2 Axes>"
      ]
     },
     "metadata": {
      "needs_background": "light"
     },
     "output_type": "display_data"
    }
   ],
   "source": [
    "corr=df.corr()\n",
    "sns.heatmap(corr,cmap=\"Blues\",annot=True)"
   ]
  }
 ],
 "metadata": {
  "kernelspec": {
   "display_name": "Python 3 (ipykernel)",
   "language": "python",
   "name": "python3"
  },
  "language_info": {
   "codemirror_mode": {
    "name": "ipython",
    "version": 3
   },
   "file_extension": ".py",
   "mimetype": "text/x-python",
   "name": "python",
   "nbconvert_exporter": "python",
   "pygments_lexer": "ipython3",
   "version": "3.9.12"
  }
 },
 "nbformat": 4,
 "nbformat_minor": 5
}
