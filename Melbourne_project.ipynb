{
 "cells": [
  {
   "cell_type": "markdown",
   "id": "9d94d157",
   "metadata": {},
   "source": [
    "# Melbourne Housing Market Analysis"
   ]
  },
  {
   "attachments": {},
   "cell_type": "markdown",
   "id": "abd7842f",
   "metadata": {},
   "source": [
    "## Overview \n",
    "#### The objective of this prokect is to analyse the data avaiable in Melbourne housing market from Jan 2016 to Sep 2017. This dataset includes the properties's address, type, landsize, room number and other information. \n",
    "\n",
    "#### There are three parts of this project, within each part, few questions will be answered.\n",
    "### Part I: Data overview\n",
    "#### Q1.  How many properties were on list during this period? how it distributes in different surburb?\n",
    "#### Q2. In which surburb, the average price/median price of properties is most expensive. \n",
    "#### Q3. How the price distributes in different region?\n",
    "#### Q4. What is the sales amount within this period for each surburb. \n",
    "#### Q5. Who are the top 5 agencies( how many properties have sold).\n",
    "#### Q6. What is percentage of different property types in Melbourne?"
   ]
  },
  {
   "attachments": {},
   "cell_type": "markdown",
   "id": "6118edc9",
   "metadata": {},
   "source": [
    "### Part II: Factors that affect the property selling\n",
    "#### Q7.  Is the distance to city will affect the property price?\n",
    "#### Q8. Is there any busy season for the house selling?\n",
    "#### Q9. Would the method of selling will affect the price?\n",
    "#### Q10. Within a same suburb, is property type, land size, the amount of bedroom and bathroom, car park number will affect the price?"
   ]
  },
  {
   "cell_type": "markdown",
   "id": "6fbd5776",
   "metadata": {},
   "source": [
    "### Part III: Prediction\n",
    "#### Q11. Predict the land price for each council\n",
    "#### Q12. Predict the average property price by considering the interest rate policy"
   ]
  },
  {
   "cell_type": "code",
   "execution_count": null,
   "id": "c1789195",
   "metadata": {},
   "outputs": [],
   "source": []
  }
 ],
 "metadata": {
  "kernelspec": {
   "display_name": "Python 3",
   "language": "python",
   "name": "python3"
  },
  "language_info": {
   "codemirror_mode": {
    "name": "ipython",
    "version": 3
   },
   "file_extension": ".py",
   "mimetype": "text/x-python",
   "name": "python",
   "nbconvert_exporter": "python",
   "pygments_lexer": "ipython3",
   "version": "3.8.8"
  }
 },
 "nbformat": 4,
 "nbformat_minor": 5
}
